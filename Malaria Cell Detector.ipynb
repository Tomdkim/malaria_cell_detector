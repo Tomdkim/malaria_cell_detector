{
 "cells": [
  {
   "cell_type": "markdown",
   "metadata": {},
   "source": [
    "Tom Kim's first deep learning personal project\n",
    "\n",
    "Goal of this project: To build a convolutional neural network model that would detect malaria infected cells with a high accuracy. Save the world!"
   ]
  },
  {
   "cell_type": "markdown",
   "metadata": {},
   "source": [
    "About the original dataset:\n",
    "- Name: Malaria Cell Images Dataset\n",
    "- One folder of images of malaria infected cells & the other of images of uninfected cells (a total of 27,558 images)\n",
    "- Acknowledgement -- this dataset is taken from the official NIH website (https://ceb.nlm.nih.gov/repositories/malaria-datasets/)"
   ]
  },
  {
   "cell_type": "markdown",
   "metadata": {},
   "source": [
    "Table of Contents:\n",
    "\n",
    "1) Divide the data into three parts: trainset, validationset, and testset.\n",
    "    - only going to use a total of 8k images out of 27,558\n",
    "    - a total of 4k images for trainset (2k of infected & 2k of uninfected)\n",
    "    - a total of 2k images for validationset (1k of infected & 1k of uninfected)\n",
    "    - a total of 1k images for testset (1k of infected & 1k of uninfected)\n",
    "\n",
    "2) Build a CNN model:\n",
    "    - well-balanced binary classification problem\n",
    "    - activation function: relu & sigmoid\n",
    "    - loss function: binary crossentropy\n",
    "    - use accuray (b/c the dataset is balanced between images of infected and of uninfected cells\n",
    "    - Objective : To build an overfitted model first and then add dropouts, weight regularization etc afterwards\n",
    "    - model saved as: 'malaria_detector_overfitted' (test acc: 0.939499990940094)\n",
    "\n",
    "3) Data Preprocessing:\n",
    "    - Read each png file, decode into RGB file, and convert it into a tensor\n",
    "    - Scale the tensor to be [0,1] (as neural network prefers small input values)\n",
    "\n",
    "4) Reduce overfitting and tweak hyper-parameters\n",
    "    - Weight Regularization\n",
    "    - Batch Normalization\n",
    "    - Reduce number of layers and parameters\n",
    "    - model saved as: 'malaria_detector_regularized' (test acc: 0.9264999920129776)\n",
    "    - Data augmentation\n",
    "    - model saved as: 'malaria_detector_data_augmented.h5' (test acc: 0.9519999927282333)\n",
    "\n",
    "5) Use SeparableConv2D to substitute Conv2D\n",
    "    - Use depthwise separable convolution (Separable Conv2D)\n",
    "    - Separable Conv2D is lighter (less model parameters to train) and faster\n",
    "    - model saved as: 'malaria_detector_separableConv2D' (test acc: 0.8694999974966049)\n",
    "    -> compared to other models, time for each epoch is shorter but accuracy and loss improved relatively slowly\n",
    "\n",
    "6) Use pre-trained network to compare with the model trained above.\n",
    "    - only reuse the portion of CNN layers (b/c the rest is specificly trained to a different problem)\n",
    "    - Reference from : Deep Learning with Python written by Francois Chollet\n",
    "    - model saved as: 'malaria_detector_VGG16'\n",
    "    \n",
    "7) Conclusion"
   ]
  },
  {
   "cell_type": "markdown",
   "metadata": {},
   "source": [
    "Part 1. < Divide the data into three parts: trainset, validationset, and testset >\n",
    "    - only going to use a total of 8k images out of 27,558\n",
    "    - a total of 4k images for trainset (2k of infected & 2k of uninfected)\n",
    "    - a total of 2k images for validationset (1k of infected & 1k of uninfected)\n",
    "    - a total of 1k images for testset (1k of infected & 1k of uninfected)"
   ]
  },
  {
   "cell_type": "code",
   "execution_count": 3,
   "metadata": {},
   "outputs": [],
   "source": [
    "# Make necessary folders for the data\n",
    "import os\n",
    "import shutil\n",
    "\n",
    "data_dir = './all_cells'\n",
    "os.mkdir(data_dir)\n",
    "train_dir = os.path.join(data_dir, 'train')\n",
    "os.mkdir(train_dir)\n",
    "validation_dir = os.path.join(data_dir, 'validation')\n",
    "os.mkdir(validation_dir)\n",
    "test_dir = os.path.join(data_dir, 'test')\n",
    "os.mkdir(test_dir)\n",
    "\n",
    "train_infected_cells_dir = os.path.join(train_dir, 'infected')\n",
    "os.mkdir(train_infected_cells_dir)\n",
    "train_uninfected_cells_dir = os.path.join(train_dir, 'uninfected')\n",
    "os.mkdir(train_uninfected_cells_dir)\n",
    "\n",
    "validation_infected_cells_dir = os.path.join(validation_dir, 'infected')\n",
    "os.mkdir(validation_infected_cells_dir)\n",
    "validation_uninfected_cells_dir = os.path.join(validation_dir, 'uninfected')\n",
    "os.mkdir(validation_uninfected_cells_dir)\n",
    "\n",
    "test_infected_cells_dir = os.path.join(test_dir, 'infected')\n",
    "os.mkdir(test_infected_cells_dir)\n",
    "test_uninfected_cells_dir = os.path.join(test_dir, 'uninfected')\n",
    "os.mkdir(test_uninfected_cells_dir)"
   ]
  },
  {
   "cell_type": "code",
   "execution_count": null,
   "metadata": {},
   "outputs": [],
   "source": [
    "# Shuffle images before dividing\n",
    "import os\n",
    "import random\n",
    "randlist = random.sample(range(1, 13780), 13779)\n",
    "\n",
    "count = 1\n",
    "for i in randlist:\n",
    "    os.rename('./cell_images/Parasitized/parasitized' + str(count) + '.png',\n",
    "              './cell_images/Parasitized/' + str(i) + '.png')\n",
    "    os.rename('./cell_images/Uninfected/uninfected' + str(count) + '.png',\n",
    "              './cell_images/Uninfected/' + str(i) + '.png')\n",
    "    count += 1"
   ]
  },
  {
   "cell_type": "code",
   "execution_count": 4,
   "metadata": {},
   "outputs": [],
   "source": [
    "# Randomly select uninfected images\n",
    "base_dir = './cell_images'\n",
    "\n",
    "count = 0\n",
    "hasSeen = set()\n",
    "\n",
    "while count < 2000:\n",
    "    x = random.randint(1, 13779)\n",
    "    if x not in hasSeen :\n",
    "        hasSeen.add(x)\n",
    "        fname = str(x) + '.png'\n",
    "        src = os.path.join(base_dir, 'Uninfected')\n",
    "        src = os.path.join(src, fname)\n",
    "        dst = os.path.join(train_uninfected_cells_dir, fname)\n",
    "        shutil.copyfile(src, dst)\n",
    "        count += 1\n",
    "\n",
    "while count < 3000:\n",
    "    x = random.randint(1, 13779)\n",
    "    if x not in hasSeen :\n",
    "        hasSeen.add(x)\n",
    "        fname = str(x) + '.png'\n",
    "        src = os.path.join(base_dir, 'Uninfected')\n",
    "        src = os.path.join(src, fname)\n",
    "        dst = os.path.join(validation_uninfected_cells_dir, fname)\n",
    "        shutil.copyfile(src, dst)\n",
    "        count += 1\n",
    "\n",
    "while count < 4000:\n",
    "    x = random.randint(1, 13779)\n",
    "    if x not in hasSeen:\n",
    "        hasSeen.add(x)\n",
    "        fname = str(x) + '.png'\n",
    "        src = os.path.join(base_dir, 'Uninfected')\n",
    "        src = os.path.join(src, fname)\n",
    "        dst = os.path.join(test_uninfected_cells_dir, fname)\n",
    "        shutil.copyfile(src, dst)\n",
    "        count += 1"
   ]
  },
  {
   "cell_type": "code",
   "execution_count": 5,
   "metadata": {},
   "outputs": [],
   "source": [
    "# Randomly select infected images\n",
    "count = 0\n",
    "hasSeen = set()\n",
    "\n",
    "while count < 2000:\n",
    "    x = random.randint(1, 13779)\n",
    "    if x not in hasSeen :\n",
    "        hasSeen.add(x)\n",
    "        fname = str(x) + '.png'\n",
    "        src = os.path.join(base_dir, 'Parasitized')\n",
    "        src = os.path.join(src, fname)\n",
    "        dst = os.path.join(train_infected_cells_dir, fname)\n",
    "        shutil.copyfile(src, dst)\n",
    "        count += 1\n",
    "\n",
    "while count < 3000:\n",
    "    x = random.randint(1, 13779)\n",
    "    if x not in hasSeen :\n",
    "        hasSeen.add(x)\n",
    "        fname = str(x) + '.png'\n",
    "        src = os.path.join(base_dir, 'Parasitized')\n",
    "        src = os.path.join(src, fname)\n",
    "        dst = os.path.join(validation_infected_cells_dir, fname)\n",
    "        shutil.copyfile(src, dst)\n",
    "        count += 1\n",
    "\n",
    "while count < 4000:\n",
    "    x = random.randint(1, 13779)\n",
    "    if x not in hasSeen:\n",
    "        hasSeen.add(x)\n",
    "        fname = str(x) + '.png'\n",
    "        src = os.path.join(base_dir, 'Parasitized')\n",
    "        src = os.path.join(src, fname)\n",
    "        dst = os.path.join(test_infected_cells_dir, fname)\n",
    "        shutil.copyfile(src, dst)\n",
    "        count += 1"
   ]
  },
  {
   "cell_type": "code",
   "execution_count": 6,
   "metadata": {},
   "outputs": [
    {
     "name": "stdout",
     "output_type": "stream",
     "text": [
      "('Trainset of uninfected cells : ', 2000)\n",
      "('Trainset of infected cells : ', 2000)\n",
      "('Validationset of uninfected cells : ', 1000)\n",
      "('Validationset of infected cells : ', 1000)\n",
      "('Testset of uninfected cells : ', 1000)\n",
      "('Testset of infected cells : ', 1000)\n"
     ]
    }
   ],
   "source": [
    "print('Trainset of uninfected cells : ', len(os.listdir(train_uninfected_cells_dir)))\n",
    "print('Trainset of infected cells : ', len(os.listdir(train_infected_cells_dir)))\n",
    "print('Validationset of uninfected cells : ', len(os.listdir(validation_uninfected_cells_dir)))\n",
    "print('Validationset of infected cells : ', len(os.listdir(validation_infected_cells_dir)))\n",
    "print('Testset of uninfected cells : ', len(os.listdir(test_uninfected_cells_dir)))\n",
    "print('Testset of infected cells : ', len(os.listdir(test_infected_cells_dir)))"
   ]
  },
  {
   "cell_type": "markdown",
   "metadata": {},
   "source": [
    "Part2. < Build a CNN model >\n",
    "    - binary classification problem\n",
    "    - activation function: relu & sigmoid\n",
    "    - loss function: binary crossentropy\n",
    "    - use accuray (b/c the dataset is balanced between images of infected and of uninfected cells\n",
    "    - Objective : To build an overfitted model first and then add dropouts, weight regularization etc afterwards"
   ]
  },
  {
   "cell_type": "code",
   "execution_count": 12,
   "metadata": {},
   "outputs": [],
   "source": [
    "from keras import layers\n",
    "from keras import models\n",
    "\n",
    "model = models.Sequential()\n",
    "model.add(layers.Conv2D(32,(3,3),activation='relu',input_shape=(150,150,3)))\n",
    "model.add(layers.MaxPooling2D((2,2)))\n",
    "model.add(layers.Conv2D(64,(3,3),activation='relu'))\n",
    "model.add(layers.MaxPooling2D((2,2)))\n",
    "model.add(layers.Conv2D(128,(3,3),activation='relu'))\n",
    "model.add(layers.MaxPooling2D((2,2)))\n",
    "model.add(layers.Conv2D(128,(3,3),activation='relu'))\n",
    "model.add(layers.MaxPooling2D((2,2)))\n",
    "model.add(layers.Flatten())\n",
    "model.add(layers.Dense(512, activation='relu'))\n",
    "model.add(layers.Dense(1, activation='sigmoid'))"
   ]
  },
  {
   "cell_type": "code",
   "execution_count": 13,
   "metadata": {
    "scrolled": true
   },
   "outputs": [
    {
     "name": "stdout",
     "output_type": "stream",
     "text": [
      "_________________________________________________________________\n",
      "Layer (type)                 Output Shape              Param #   \n",
      "=================================================================\n",
      "conv2d_1 (Conv2D)            (None, 148, 148, 32)      896       \n",
      "_________________________________________________________________\n",
      "max_pooling2d_5 (MaxPooling2 (None, 74, 74, 32)        0         \n",
      "_________________________________________________________________\n",
      "conv2d_2 (Conv2D)            (None, 72, 72, 64)        18496     \n",
      "_________________________________________________________________\n",
      "max_pooling2d_6 (MaxPooling2 (None, 36, 36, 64)        0         \n",
      "_________________________________________________________________\n",
      "conv2d_3 (Conv2D)            (None, 34, 34, 128)       73856     \n",
      "_________________________________________________________________\n",
      "max_pooling2d_7 (MaxPooling2 (None, 17, 17, 128)       0         \n",
      "_________________________________________________________________\n",
      "conv2d_4 (Conv2D)            (None, 15, 15, 128)       147584    \n",
      "_________________________________________________________________\n",
      "max_pooling2d_8 (MaxPooling2 (None, 7, 7, 128)         0         \n",
      "_________________________________________________________________\n",
      "flatten_2 (Flatten)          (None, 6272)              0         \n",
      "_________________________________________________________________\n",
      "dense_3 (Dense)              (None, 512)               3211776   \n",
      "_________________________________________________________________\n",
      "dense_4 (Dense)              (None, 1)                 513       \n",
      "=================================================================\n",
      "Total params: 3,453,121\n",
      "Trainable params: 3,453,121\n",
      "Non-trainable params: 0\n",
      "_________________________________________________________________\n"
     ]
    }
   ],
   "source": [
    "model.summary()"
   ]
  },
  {
   "cell_type": "code",
   "execution_count": 14,
   "metadata": {},
   "outputs": [],
   "source": [
    "from keras import optimizers\n",
    "model.compile(loss='binary_crossentropy',\n",
    "              optimizer=optimizers.RMSprop(lr=1e-4),\n",
    "              metrics=['acc'])"
   ]
  },
  {
   "cell_type": "markdown",
   "metadata": {},
   "source": [
    "Part3. < Data Preprocessing >\n",
    "    - Read each png file\n",
    "    - Decode into RGB file\n",
    "    - Convert to float type tensor\n",
    "    - Scale the tensor to be [0,1] (as neural network prefers small input values)"
   ]
  },
  {
   "cell_type": "code",
   "execution_count": 15,
   "metadata": {},
   "outputs": [
    {
     "name": "stdout",
     "output_type": "stream",
     "text": [
      "Found 4000 images belonging to 2 classes.\n",
      "Found 2000 images belonging to 2 classes.\n"
     ]
    }
   ],
   "source": [
    "from keras.preprocessing.image import ImageDataGenerator\n",
    "\n",
    "# Scale every image by 1/255\n",
    "train_data_generator = ImageDataGenerator(rescale=1./255)\n",
    "test_data_generator = ImageDataGenerator(rescale=1./255)\n",
    "\n",
    "train_generator = train_data_generator.flow_from_directory(\n",
    "    train_dir,\n",
    "    target_size=(150, 150),\n",
    "    batch_size=20,\n",
    "    class_mode='binary')\n",
    "\n",
    "validation_generator = test_data_generator.flow_from_directory(\n",
    "    validation_dir,\n",
    "    target_size=(150, 150),\n",
    "    batch_size=20,\n",
    "    class_mode='binary')"
   ]
  },
  {
   "cell_type": "code",
   "execution_count": 16,
   "metadata": {},
   "outputs": [
    {
     "name": "stdout",
     "output_type": "stream",
     "text": [
      "('size of data_batch : ', (20, 150, 150, 3))\n",
      "('size of label_batch : ', (20,))\n"
     ]
    }
   ],
   "source": [
    "for data_batch, label_batch in train_generator:\n",
    "    print('size of data_batch : ', data_batch.shape)\n",
    "    print('size of label_batch : ', label_batch.shape)\n",
    "    break"
   ]
  },
  {
   "cell_type": "code",
   "execution_count": 17,
   "metadata": {
    "scrolled": true
   },
   "outputs": [
    {
     "name": "stdout",
     "output_type": "stream",
     "text": [
      "Epoch 1/20\n",
      "200/200 [==============================] - 192s 960ms/step - loss: 0.6720 - acc: 0.5860 - val_loss: 0.6056 - val_acc: 0.6700\n",
      "Epoch 2/20\n",
      "200/200 [==============================] - 207s 1s/step - loss: 0.5956 - acc: 0.6872 - val_loss: 0.6093 - val_acc: 0.6515\n",
      "Epoch 3/20\n",
      "200/200 [==============================] - 194s 969ms/step - loss: 0.5013 - acc: 0.7603 - val_loss: 0.4418 - val_acc: 0.8045\n",
      "Epoch 4/20\n",
      "200/200 [==============================] - 203s 1s/step - loss: 0.3527 - acc: 0.8500 - val_loss: 0.2675 - val_acc: 0.8995\n",
      "Epoch 5/20\n",
      "200/200 [==============================] - 198s 989ms/step - loss: 0.2257 - acc: 0.9135 - val_loss: 0.1925 - val_acc: 0.9305\n",
      "Epoch 6/20\n",
      "200/200 [==============================] - 199s 995ms/step - loss: 0.1733 - acc: 0.9367 - val_loss: 0.1852 - val_acc: 0.9370\n",
      "Epoch 7/20\n",
      "200/200 [==============================] - 181s 904ms/step - loss: 0.1539 - acc: 0.9467 - val_loss: 0.1697 - val_acc: 0.9480\n",
      "Epoch 8/20\n",
      "200/200 [==============================] - 180s 901ms/step - loss: 0.1390 - acc: 0.9515 - val_loss: 0.1741 - val_acc: 0.9480\n",
      "Epoch 9/20\n",
      "200/200 [==============================] - 183s 915ms/step - loss: 0.1274 - acc: 0.9567 - val_loss: 0.1700 - val_acc: 0.9505\n",
      "Epoch 10/20\n",
      "200/200 [==============================] - 273s 1s/step - loss: 0.1179 - acc: 0.9587 - val_loss: 0.1637 - val_acc: 0.9515\n",
      "Epoch 11/20\n",
      "200/200 [==============================] - 186s 932ms/step - loss: 0.1054 - acc: 0.9662 - val_loss: 0.1795 - val_acc: 0.9445\n",
      "Epoch 12/20\n",
      "200/200 [==============================] - 181s 905ms/step - loss: 0.1049 - acc: 0.9640 - val_loss: 0.1833 - val_acc: 0.9420\n",
      "Epoch 13/20\n",
      "200/200 [==============================] - 183s 914ms/step - loss: 0.0947 - acc: 0.9647 - val_loss: 0.1694 - val_acc: 0.9440\n",
      "Epoch 14/20\n",
      "200/200 [==============================] - 219s 1s/step - loss: 0.0872 - acc: 0.9705 - val_loss: 0.1766 - val_acc: 0.9500\n",
      "Epoch 15/20\n",
      "200/200 [==============================] - 217s 1s/step - loss: 0.0809 - acc: 0.9740 - val_loss: 0.1728 - val_acc: 0.9470\n",
      "Epoch 16/20\n",
      "200/200 [==============================] - 208s 1s/step - loss: 0.0765 - acc: 0.9732 - val_loss: 0.1764 - val_acc: 0.9510\n",
      "Epoch 17/20\n",
      "200/200 [==============================] - 225s 1s/step - loss: 0.0675 - acc: 0.9777 - val_loss: 0.1776 - val_acc: 0.9525\n",
      "Epoch 18/20\n",
      "200/200 [==============================] - 225s 1s/step - loss: 0.0637 - acc: 0.9787 - val_loss: 0.3077 - val_acc: 0.9090\n",
      "Epoch 19/20\n",
      "200/200 [==============================] - 200s 1s/step - loss: 0.0565 - acc: 0.9802 - val_loss: 0.2663 - val_acc: 0.9260\n",
      "Epoch 20/20\n",
      "200/200 [==============================] - 217s 1s/step - loss: 0.0503 - acc: 0.9855 - val_loss: 0.1941 - val_acc: 0.9460\n"
     ]
    }
   ],
   "source": [
    "history = model.fit_generator(\n",
    "    train_generator,\n",
    "    steps_per_epoch=200,\n",
    "    epochs=20,\n",
    "    validation_data=validation_generator,\n",
    "    validation_steps=100)"
   ]
  },
  {
   "cell_type": "code",
   "execution_count": 18,
   "metadata": {},
   "outputs": [],
   "source": [
    "model.save('malaria_detector_overfitted')"
   ]
  },
  {
   "cell_type": "code",
   "execution_count": 10,
   "metadata": {},
   "outputs": [
    {
     "name": "stdout",
     "output_type": "stream",
     "text": [
      "Found 2000 images belonging to 2 classes.\n"
     ]
    }
   ],
   "source": [
    "model = models.load_model('malaria_detector_overfitted')\n",
    "\n",
    "test_data_generator = ImageDataGenerator(rescale=1./255)\n",
    "\n",
    "test_generator = test_data_generator.flow_from_directory(test_dir,\n",
    "                                                         target_size=(150,150),\n",
    "                                                         batch_size=20,\n",
    "                                                         class_mode='binary')\n",
    "\n",
    "test_loss, test_acc = model.evaluate_generator(test_generator, steps=100)"
   ]
  },
  {
   "cell_type": "code",
   "execution_count": 11,
   "metadata": {},
   "outputs": [
    {
     "name": "stdout",
     "output_type": "stream",
     "text": [
      "test acc: 0.939499990940094\n"
     ]
    }
   ],
   "source": [
    "print('test acc: ' + str(test_acc))"
   ]
  },
  {
   "cell_type": "code",
   "execution_count": 20,
   "metadata": {},
   "outputs": [
    {
     "data": {
      "text/plain": [
       "<matplotlib.figure.Figure at 0x126a25990>"
      ]
     },
     "execution_count": 20,
     "metadata": {},
     "output_type": "execute_result"
    },
    {
     "data": {
      "image/png": "[encoded data removed]",
      "text/plain": [
       "<matplotlib.figure.Figure at 0x12724d290>"
      ]
     },
     "metadata": {
      "needs_background": "light"
     },
     "output_type": "display_data"
    },
    {
     "data": {
      "text/plain": [
       "<matplotlib.figure.Figure at 0x126a25990>"
      ]
     },
     "metadata": {},
     "output_type": "display_data"
    }
   ],
   "source": [
    "import matplotlib.pyplot as plt\n",
    "\n",
    "acc = history.history['acc']\n",
    "val_acc = history.history['val_acc']\n",
    "loss = history.history['loss']\n",
    "val_loss = history.history['val_loss']\n",
    "\n",
    "epochs = range(1, len(acc) + 1)\n",
    "\n",
    "plt.plot(epochs, acc, 'bo', label='Training acc')\n",
    "plt.plot(epochs, val_acc, 'b', label='Validation acc')\n",
    "plt.title('Training and Validation accuracy')\n",
    "plt.legend()\n",
    "plt.figure()"
   ]
  },
  {
   "cell_type": "code",
   "execution_count": 21,
   "metadata": {},
   "outputs": [
    {
     "data": {
      "image/png": "[encoded data removed]",
      "text/plain": [
       "<matplotlib.figure.Figure at 0x12719f290>"
      ]
     },
     "metadata": {
      "needs_background": "light"
     },
     "output_type": "display_data"
    }
   ],
   "source": [
    "plt.plot(epochs, loss, 'bo', label='Training loss')\n",
    "plt.plot(epochs, val_loss, 'b', label='Validation loss')\n",
    "plt.title('Training and Validation loss')\n",
    "plt.legend()\n",
    "plt.show()"
   ]
  },
  {
   "cell_type": "markdown",
   "metadata": {},
   "source": [
    "Part4. < Reduce overfitting and tweak hyper-parameters >\n",
    "    - Weight Regularization\n",
    "    - Batch Normalization\n",
    "    - Reduce number of layers and parameters\n",
    "    - Data augmentation"
   ]
  },
  {
   "cell_type": "code",
   "execution_count": 57,
   "metadata": {},
   "outputs": [],
   "source": [
    "#Weight Regularization & BatchNormalization layer Added\n",
    "from keras.regularizers import l2\n",
    "\n",
    "model = models.Sequential()\n",
    "model.add(layers.Conv2D(32,(3,3),activation='relu', kernel_regularizer=l2(0.001), input_shape=(150,150,3)))\n",
    "model.add(layers.MaxPooling2D((2,2)))\n",
    "model.add(layers.Conv2D(64,(3,3),activation='relu', kernel_regularizer=l2(0.001)))\n",
    "model.add(layers.MaxPooling2D((2,2)))\n",
    "model.add(layers.Conv2D(128,(3,3),activation='relu', kernel_regularizer=l2(0.001)))\n",
    "model.add(layers.MaxPooling2D((2,2)))\n",
    "model.add(layers.Conv2D(128,(3,3),activation='relu', kernel_regularizer=l2(0.001)))\n",
    "model.add(layers.BatchNormalization())\n",
    "model.add(layers.MaxPooling2D((2,2)))\n",
    "model.add(layers.Flatten())\n",
    "model.add(layers.Dense(512, activation='relu'))\n",
    "model.add(layers.Dense(1, activation='sigmoid'))"
   ]
  },
  {
   "cell_type": "code",
   "execution_count": 58,
   "metadata": {
    "scrolled": true
   },
   "outputs": [
    {
     "name": "stdout",
     "output_type": "stream",
     "text": [
      "_________________________________________________________________\n",
      "Layer (type)                 Output Shape              Param #   \n",
      "=================================================================\n",
      "conv2d_1 (Conv2D)            (None, 148, 148, 32)      896       \n",
      "_________________________________________________________________\n",
      "max_pooling2d_1 (MaxPooling2 (None, 74, 74, 32)        0         \n",
      "_________________________________________________________________\n",
      "conv2d_2 (Conv2D)            (None, 72, 72, 64)        18496     \n",
      "_________________________________________________________________\n",
      "max_pooling2d_2 (MaxPooling2 (None, 36, 36, 64)        0         \n",
      "_________________________________________________________________\n",
      "conv2d_3 (Conv2D)            (None, 34, 34, 128)       73856     \n",
      "_________________________________________________________________\n",
      "max_pooling2d_3 (MaxPooling2 (None, 17, 17, 128)       0         \n",
      "_________________________________________________________________\n",
      "conv2d_4 (Conv2D)            (None, 15, 15, 128)       147584    \n",
      "_________________________________________________________________\n",
      "batch_normalization_1 (Batch (None, 15, 15, 128)       512       \n",
      "_________________________________________________________________\n",
      "max_pooling2d_4 (MaxPooling2 (None, 7, 7, 128)         0         \n",
      "_________________________________________________________________\n",
      "flatten_3 (Flatten)          (None, 6272)              0         \n",
      "_________________________________________________________________\n",
      "dense_16 (Dense)             (None, 512)               3211776   \n",
      "_________________________________________________________________\n",
      "dense_17 (Dense)             (None, 1)                 513       \n",
      "=================================================================\n",
      "Total params: 3,453,633\n",
      "Trainable params: 3,453,377\n",
      "Non-trainable params: 256\n",
      "_________________________________________________________________\n"
     ]
    }
   ],
   "source": [
    "model.summary()"
   ]
  },
  {
   "cell_type": "code",
   "execution_count": 59,
   "metadata": {},
   "outputs": [],
   "source": [
    "model.compile(loss='binary_crossentropy',\n",
    "              optimizer=optimizers.RMSprop(lr=1e-4),\n",
    "              metrics=['acc'])"
   ]
  },
  {
   "cell_type": "code",
   "execution_count": 26,
   "metadata": {},
   "outputs": [
    {
     "name": "stdout",
     "output_type": "stream",
     "text": [
      "Found 4000 images belonging to 2 classes.\n",
      "Found 2000 images belonging to 2 classes.\n"
     ]
    }
   ],
   "source": [
    "# Scale every image by 1/255\n",
    "train_data_generator = ImageDataGenerator(rescale=1./255)\n",
    "test_data_generator = ImageDataGenerator(rescale=1./255)\n",
    "\n",
    "train_generator = train_data_generator.flow_from_directory(\n",
    "    train_dir,\n",
    "    target_size=(150, 150),\n",
    "    batch_size=20,\n",
    "    class_mode='binary')\n",
    "\n",
    "validation_generator = test_data_generator.flow_from_directory(\n",
    "    validation_dir,\n",
    "    target_size=(150, 150),\n",
    "    batch_size=20,\n",
    "    class_mode='binary')"
   ]
  },
  {
   "cell_type": "code",
   "execution_count": 27,
   "metadata": {
    "scrolled": true
   },
   "outputs": [
    {
     "name": "stdout",
     "output_type": "stream",
     "text": [
      "Epoch 1/30\n",
      "200/200 [==============================] - 199s 993ms/step - loss: 0.8636 - acc: 0.6752 - val_loss: 0.7477 - val_acc: 0.7480\n",
      "Epoch 2/30\n",
      "200/200 [==============================] - 198s 989ms/step - loss: 0.6334 - acc: 0.8215 - val_loss: 0.9004 - val_acc: 0.6060\n",
      "Epoch 3/30\n",
      "200/200 [==============================] - 187s 935ms/step - loss: 0.4516 - acc: 0.9057 - val_loss: 0.4288 - val_acc: 0.9205\n",
      "Epoch 4/30\n",
      "200/200 [==============================] - 187s 936ms/step - loss: 0.3632 - acc: 0.9430 - val_loss: 0.4335 - val_acc: 0.9045\n",
      "Epoch 5/30\n",
      "200/200 [==============================] - 200s 998ms/step - loss: 0.3102 - acc: 0.9540 - val_loss: 0.5423 - val_acc: 0.8755\n",
      "Epoch 6/30\n",
      "200/200 [==============================] - 208s 1s/step - loss: 0.2759 - acc: 0.9697 - val_loss: 0.4444 - val_acc: 0.9130\n",
      "Epoch 7/30\n",
      "200/200 [==============================] - 208s 1s/step - loss: 0.2457 - acc: 0.9740 - val_loss: 0.3820 - val_acc: 0.9355\n",
      "Epoch 8/30\n",
      "200/200 [==============================] - 209s 1s/step - loss: 0.2209 - acc: 0.9825 - val_loss: 0.7220 - val_acc: 0.7675\n",
      "Epoch 9/30\n",
      "200/200 [==============================] - 208s 1s/step - loss: 0.2038 - acc: 0.9872 - val_loss: 0.4373 - val_acc: 0.9315\n",
      "Epoch 10/30\n",
      "200/200 [==============================] - 207s 1s/step - loss: 0.1906 - acc: 0.9912 - val_loss: 0.3808 - val_acc: 0.9395\n",
      "Epoch 11/30\n",
      "200/200 [==============================] - 208s 1s/step - loss: 0.1753 - acc: 0.9937 - val_loss: 0.4422 - val_acc: 0.9275\n",
      "Epoch 12/30\n",
      "200/200 [==============================] - 210s 1s/step - loss: 0.1660 - acc: 0.9950 - val_loss: 0.4166 - val_acc: 0.9415\n",
      "Epoch 13/30\n",
      "200/200 [==============================] - 211s 1s/step - loss: 0.1581 - acc: 0.9952 - val_loss: 0.4299 - val_acc: 0.9325\n",
      "Epoch 14/30\n",
      "200/200 [==============================] - 209s 1s/step - loss: 0.1494 - acc: 0.9972 - val_loss: 0.5574 - val_acc: 0.9160\n",
      "Epoch 15/30\n",
      "200/200 [==============================] - 207s 1s/step - loss: 0.1373 - acc: 0.9977 - val_loss: 0.4828 - val_acc: 0.9110\n",
      "Epoch 16/30\n",
      "200/200 [==============================] - 207s 1s/step - loss: 0.1297 - acc: 0.9972 - val_loss: 0.4004 - val_acc: 0.9355\n",
      "Epoch 17/30\n",
      "200/200 [==============================] - 209s 1s/step - loss: 0.1247 - acc: 0.9967 - val_loss: 0.3878 - val_acc: 0.9385\n",
      "Epoch 18/30\n",
      "200/200 [==============================] - 197s 985ms/step - loss: 0.1153 - acc: 0.9985 - val_loss: 0.7255 - val_acc: 0.9025\n",
      "Epoch 19/30\n",
      "200/200 [==============================] - 187s 936ms/step - loss: 0.1096 - acc: 0.9985 - val_loss: 0.4326 - val_acc: 0.9370\n",
      "Epoch 20/30\n",
      "200/200 [==============================] - 195s 974ms/step - loss: 0.1025 - acc: 0.9980 - val_loss: 1.0261 - val_acc: 0.7010\n",
      "Epoch 21/30\n",
      "200/200 [==============================] - 188s 941ms/step - loss: 0.0927 - acc: 0.9992 - val_loss: 0.5873 - val_acc: 0.9120\n",
      "Epoch 22/30\n",
      "200/200 [==============================] - 187s 933ms/step - loss: 0.0898 - acc: 0.9995 - val_loss: 0.3956 - val_acc: 0.9445\n",
      "Epoch 23/30\n",
      "200/200 [==============================] - 198s 989ms/step - loss: 0.0820 - acc: 0.9992 - val_loss: 0.3786 - val_acc: 0.9400\n",
      "Epoch 24/30\n",
      "200/200 [==============================] - 325s 2s/step - loss: 0.0818 - acc: 0.9975 - val_loss: 0.3941 - val_acc: 0.9360\n",
      "Epoch 25/30\n",
      "200/200 [==============================] - 220s 1s/step - loss: 0.0756 - acc: 0.9987 - val_loss: 0.4147 - val_acc: 0.9380\n",
      "Epoch 26/30\n",
      "200/200 [==============================] - 201s 1s/step - loss: 0.0695 - acc: 0.9995 - val_loss: 0.4025 - val_acc: 0.9385\n",
      "Epoch 27/30\n",
      "200/200 [==============================] - 191s 955ms/step - loss: 0.0661 - acc: 0.9990 - val_loss: 0.3854 - val_acc: 0.9430\n",
      "Epoch 28/30\n",
      "200/200 [==============================] - 198s 992ms/step - loss: 0.0616 - acc: 0.9992 - val_loss: 0.4241 - val_acc: 0.9345\n",
      "Epoch 29/30\n",
      "200/200 [==============================] - 212s 1s/step - loss: 0.0574 - acc: 0.9992 - val_loss: 0.4135 - val_acc: 0.9305\n",
      "Epoch 30/30\n",
      "200/200 [==============================] - 217s 1s/step - loss: 0.0592 - acc: 0.9980 - val_loss: 0.4913 - val_acc: 0.9250\n"
     ]
    }
   ],
   "source": [
    "history = model.fit_generator(\n",
    "    train_generator,\n",
    "    steps_per_epoch=200,\n",
    "    epochs=30, # Increased epochs from 20 to 30\n",
    "    validation_data=validation_generator,\n",
    "    validation_steps=100)"
   ]
  },
  {
   "cell_type": "code",
   "execution_count": 28,
   "metadata": {},
   "outputs": [],
   "source": [
    "model.save('malaria_detector_regularized')"
   ]
  },
  {
   "cell_type": "code",
   "execution_count": 13,
   "metadata": {},
   "outputs": [
    {
     "name": "stdout",
     "output_type": "stream",
     "text": [
      "Found 2000 images belonging to 2 classes.\n"
     ]
    }
   ],
   "source": [
    "model = models.load_model('malaria_detector_regularized')\n",
    "\n",
    "test_data_generator = ImageDataGenerator(rescale=1./255)\n",
    "\n",
    "test_generator = test_data_generator.flow_from_directory(test_dir,\n",
    "                                                         target_size=(150,150),\n",
    "                                                         batch_size=20,\n",
    "                                                         class_mode='binary')\n",
    "\n",
    "test_loss, test_acc = model.evaluate_generator(test_generator, steps=100)"
   ]
  },
  {
   "cell_type": "code",
   "execution_count": 14,
   "metadata": {},
   "outputs": [
    {
     "name": "stdout",
     "output_type": "stream",
     "text": [
      "test acc: 0.9264999920129776\n"
     ]
    }
   ],
   "source": [
    "print('test acc: ' + str(test_acc))"
   ]
  },
  {
   "cell_type": "code",
   "execution_count": 29,
   "metadata": {},
   "outputs": [
    {
     "data": {
      "text/plain": [
       "<matplotlib.figure.Figure at 0x12a5be990>"
      ]
     },
     "execution_count": 29,
     "metadata": {},
     "output_type": "execute_result"
    },
    {
     "data": {
      "image/png": "[encoded data removed]",
      "text/plain": [
       "<matplotlib.figure.Figure at 0x12a5ce7d0>"
      ]
     },
     "metadata": {
      "needs_background": "light"
     },
     "output_type": "display_data"
    },
    {
     "data": {
      "text/plain": [
       "<matplotlib.figure.Figure at 0x12a5be990>"
      ]
     },
     "metadata": {},
     "output_type": "display_data"
    }
   ],
   "source": [
    "import matplotlib.pyplot as plt\n",
    "\n",
    "acc = history.history['acc']\n",
    "val_acc = history.history['val_acc']\n",
    "loss = history.history['loss']\n",
    "val_loss = history.history['val_loss']\n",
    "\n",
    "epochs = range(1, len(acc) + 1)\n",
    "\n",
    "plt.plot(epochs, acc, 'bo', label='Training acc')\n",
    "plt.plot(epochs, val_acc, 'b', label='Validation acc')\n",
    "plt.title('Training and Validation accuracy')\n",
    "plt.legend()\n",
    "plt.figure()"
   ]
  },
  {
   "cell_type": "code",
   "execution_count": 30,
   "metadata": {},
   "outputs": [
    {
     "data": {
      "image/png": "[encoded data removed]",
      "text/plain": [
       "<matplotlib.figure.Figure at 0x12a5ce810>"
      ]
     },
     "metadata": {
      "needs_background": "light"
     },
     "output_type": "display_data"
    }
   ],
   "source": [
    "plt.plot(epochs, loss, 'bo', label='Training loss')\n",
    "plt.plot(epochs, val_loss, 'b', label='Validation loss')\n",
    "plt.title('Training and Validation loss')\n",
    "plt.legend()\n",
    "plt.show()"
   ]
  },
  {
   "cell_type": "code",
   "execution_count": 60,
   "metadata": {},
   "outputs": [
    {
     "name": "stdout",
     "output_type": "stream",
     "text": [
      "Found 4000 images belonging to 2 classes.\n",
      "Found 2000 images belonging to 2 classes.\n"
     ]
    }
   ],
   "source": [
    "# Data Augmentation added\n",
    "# Scale every image by 1/255\n",
    "train_data_generator = ImageDataGenerator(rescale=1./255,\n",
    "                                          rotation_range=40,\n",
    "                                          width_shift_range=0.2,\n",
    "                                          height_shift_range=0.2,\n",
    "                                          shear_range=0.2,\n",
    "                                          zoom_range=0.2,\n",
    "                                          horizontal_flip=True,)\n",
    "\n",
    "# Generator for validation-set and test-set should not be augmented\n",
    "test_data_generator = ImageDataGenerator(rescale=1./255)\n",
    "\n",
    "train_generator = train_data_generator.flow_from_directory(\n",
    "    train_dir,\n",
    "    target_size=(150, 150),\n",
    "    batch_size=20,\n",
    "    class_mode='binary')\n",
    "\n",
    "validation_generator = test_data_generator.flow_from_directory(\n",
    "    validation_dir,\n",
    "    target_size=(150, 150),\n",
    "    batch_size=20,\n",
    "    class_mode='binary')"
   ]
  },
  {
   "cell_type": "code",
   "execution_count": 61,
   "metadata": {
    "scrolled": true
   },
   "outputs": [
    {
     "name": "stdout",
     "output_type": "stream",
     "text": [
      "Epoch 1/50\n",
      "200/200 [==============================] - 197s 983ms/step - loss: 0.8953 - acc: 0.6380 - val_loss: 1.1659 - val_acc: 0.5995\n",
      "Epoch 2/50\n",
      "200/200 [==============================] - 215s 1s/step - loss: 0.7062 - acc: 0.7635 - val_loss: 1.0016 - val_acc: 0.7210\n",
      "Epoch 3/50\n",
      "200/200 [==============================] - 228s 1s/step - loss: 0.5314 - acc: 0.8615 - val_loss: 0.4046 - val_acc: 0.9200\n",
      "Epoch 4/50\n",
      "200/200 [==============================] - 249s 1s/step - loss: 0.4718 - acc: 0.8867 - val_loss: 0.3695 - val_acc: 0.9405\n",
      "Epoch 5/50\n",
      "200/200 [==============================] - 224s 1s/step - loss: 0.4375 - acc: 0.8955 - val_loss: 0.3361 - val_acc: 0.9480\n",
      "Epoch 6/50\n",
      "200/200 [==============================] - 234s 1s/step - loss: 0.4164 - acc: 0.9045 - val_loss: 0.3093 - val_acc: 0.9515\n",
      "Epoch 7/50\n",
      "200/200 [==============================] - 250s 1s/step - loss: 0.3832 - acc: 0.9102 - val_loss: 0.3105 - val_acc: 0.9475\n",
      "Epoch 8/50\n",
      "200/200 [==============================] - 236s 1s/step - loss: 0.3769 - acc: 0.9117 - val_loss: 0.2968 - val_acc: 0.9400\n",
      "Epoch 9/50\n",
      "200/200 [==============================] - 232s 1s/step - loss: 0.3651 - acc: 0.9125 - val_loss: 0.2950 - val_acc: 0.9545\n",
      "Epoch 10/50\n",
      "200/200 [==============================] - 231s 1s/step - loss: 0.3520 - acc: 0.9202 - val_loss: 0.3460 - val_acc: 0.9370\n",
      "Epoch 11/50\n",
      "200/200 [==============================] - 224s 1s/step - loss: 0.3508 - acc: 0.9167 - val_loss: 0.2588 - val_acc: 0.9555\n",
      "Epoch 12/50\n",
      "200/200 [==============================] - 224s 1s/step - loss: 0.3386 - acc: 0.9220 - val_loss: 0.2863 - val_acc: 0.9520\n",
      "Epoch 13/50\n",
      "200/200 [==============================] - 218s 1s/step - loss: 0.3222 - acc: 0.9207 - val_loss: 0.2607 - val_acc: 0.9535\n",
      "Epoch 14/50\n",
      "200/200 [==============================] - 227s 1s/step - loss: 0.3162 - acc: 0.9217 - val_loss: 0.2490 - val_acc: 0.9560\n",
      "Epoch 15/50\n",
      "200/200 [==============================] - 227s 1s/step - loss: 0.3240 - acc: 0.9165 - val_loss: 0.2490 - val_acc: 0.9515\n",
      "Epoch 16/50\n",
      "200/200 [==============================] - 220s 1s/step - loss: 0.3158 - acc: 0.9195 - val_loss: 0.2427 - val_acc: 0.9485\n",
      "Epoch 17/50\n",
      "200/200 [==============================] - 231s 1s/step - loss: 0.3084 - acc: 0.9225 - val_loss: 0.2331 - val_acc: 0.9525\n",
      "Epoch 18/50\n",
      "200/200 [==============================] - 232s 1s/step - loss: 0.3096 - acc: 0.9192 - val_loss: 0.3079 - val_acc: 0.9205\n",
      "Epoch 19/50\n",
      "200/200 [==============================] - 227s 1s/step - loss: 0.3025 - acc: 0.9257 - val_loss: 0.2558 - val_acc: 0.9415\n",
      "Epoch 20/50\n",
      "200/200 [==============================] - 247s 1s/step - loss: 0.2967 - acc: 0.9212 - val_loss: 0.2478 - val_acc: 0.9460\n",
      "Epoch 21/50\n",
      "200/200 [==============================] - 238s 1s/step - loss: 0.2846 - acc: 0.9302 - val_loss: 0.2382 - val_acc: 0.9490\n",
      "Epoch 22/50\n",
      "200/200 [==============================] - 239s 1s/step - loss: 0.2849 - acc: 0.9245 - val_loss: 0.2789 - val_acc: 0.9305\n",
      "Epoch 23/50\n",
      "200/200 [==============================] - 223s 1s/step - loss: 0.2799 - acc: 0.9260 - val_loss: 0.2349 - val_acc: 0.9465\n",
      "Epoch 24/50\n",
      "200/200 [==============================] - 218s 1s/step - loss: 0.2759 - acc: 0.9260 - val_loss: 0.2525 - val_acc: 0.9485\n",
      "Epoch 25/50\n",
      "200/200 [==============================] - 212s 1s/step - loss: 0.2729 - acc: 0.9285 - val_loss: 0.2270 - val_acc: 0.9510\n",
      "Epoch 26/50\n",
      "200/200 [==============================] - 221s 1s/step - loss: 0.2841 - acc: 0.9245 - val_loss: 0.2369 - val_acc: 0.9420\n",
      "Epoch 27/50\n",
      "200/200 [==============================] - 216s 1s/step - loss: 0.2665 - acc: 0.9267 - val_loss: 0.2325 - val_acc: 0.9500\n",
      "Epoch 28/50\n",
      "200/200 [==============================] - 213s 1s/step - loss: 0.2663 - acc: 0.9287 - val_loss: 0.2187 - val_acc: 0.9490\n",
      "Epoch 29/50\n",
      "200/200 [==============================] - 219s 1s/step - loss: 0.2633 - acc: 0.9287 - val_loss: 0.1966 - val_acc: 0.9550\n",
      "Epoch 30/50\n",
      "200/200 [==============================] - 241s 1s/step - loss: 0.2625 - acc: 0.9297 - val_loss: 0.2211 - val_acc: 0.9530\n",
      "Epoch 31/50\n",
      "200/200 [==============================] - 236s 1s/step - loss: 0.2704 - acc: 0.9257 - val_loss: 0.2730 - val_acc: 0.9315\n",
      "Epoch 32/50\n",
      "200/200 [==============================] - 209s 1s/step - loss: 0.2674 - acc: 0.9250 - val_loss: 0.2205 - val_acc: 0.9360\n",
      "Epoch 33/50\n",
      "200/200 [==============================] - 196s 978ms/step - loss: 0.2614 - acc: 0.9290 - val_loss: 0.2047 - val_acc: 0.9535\n",
      "Epoch 34/50\n",
      "200/200 [==============================] - 219s 1s/step - loss: 0.2565 - acc: 0.9307 - val_loss: 0.2133 - val_acc: 0.9545\n",
      "Epoch 35/50\n",
      "200/200 [==============================] - 247s 1s/step - loss: 0.2525 - acc: 0.9282 - val_loss: 0.2087 - val_acc: 0.9545\n",
      "Epoch 36/50\n",
      "200/200 [==============================] - 239s 1s/step - loss: 0.2531 - acc: 0.9252 - val_loss: 0.2028 - val_acc: 0.9575\n",
      "Epoch 37/50\n",
      "200/200 [==============================] - 242s 1s/step - loss: 0.2515 - acc: 0.9310 - val_loss: 0.2019 - val_acc: 0.9545\n",
      "Epoch 38/50\n",
      "200/200 [==============================] - 231s 1s/step - loss: 0.2543 - acc: 0.9282 - val_loss: 0.2115 - val_acc: 0.9495\n",
      "Epoch 39/50\n",
      "200/200 [==============================] - 228s 1s/step - loss: 0.2502 - acc: 0.9290 - val_loss: 0.2569 - val_acc: 0.9500\n",
      "Epoch 40/50\n",
      "200/200 [==============================] - 220s 1s/step - loss: 0.2438 - acc: 0.9295 - val_loss: 0.1869 - val_acc: 0.9560\n",
      "Epoch 41/50\n",
      "200/200 [==============================] - 221s 1s/step - loss: 0.2518 - acc: 0.9280 - val_loss: 0.2065 - val_acc: 0.9530\n",
      "Epoch 42/50\n",
      "200/200 [==============================] - 231s 1s/step - loss: 0.2487 - acc: 0.9297 - val_loss: 0.1889 - val_acc: 0.9520\n",
      "Epoch 43/50\n",
      "200/200 [==============================] - 217s 1s/step - loss: 0.2460 - acc: 0.9285 - val_loss: 0.1885 - val_acc: 0.9565\n",
      "Epoch 44/50\n",
      "200/200 [==============================] - 231s 1s/step - loss: 0.2396 - acc: 0.9312 - val_loss: 0.2050 - val_acc: 0.9560\n",
      "Epoch 45/50\n",
      "200/200 [==============================] - 227s 1s/step - loss: 0.2372 - acc: 0.9330 - val_loss: 0.1826 - val_acc: 0.9610\n",
      "Epoch 46/50\n",
      "200/200 [==============================] - 236s 1s/step - loss: 0.2357 - acc: 0.9347 - val_loss: 0.1826 - val_acc: 0.9560\n",
      "Epoch 47/50\n",
      "200/200 [==============================] - 233s 1s/step - loss: 0.2411 - acc: 0.9310 - val_loss: 0.1734 - val_acc: 0.9510\n",
      "Epoch 48/50\n",
      "200/200 [==============================] - 234s 1s/step - loss: 0.2425 - acc: 0.9262 - val_loss: 0.1918 - val_acc: 0.9500\n",
      "Epoch 49/50\n",
      "200/200 [==============================] - 233s 1s/step - loss: 0.2388 - acc: 0.9367 - val_loss: 0.2014 - val_acc: 0.9555\n",
      "Epoch 50/50\n",
      "200/200 [==============================] - 228s 1s/step - loss: 0.2318 - acc: 0.9335 - val_loss: 0.1783 - val_acc: 0.9580\n"
     ]
    }
   ],
   "source": [
    "history = model.fit_generator(\n",
    "    train_generator,\n",
    "    steps_per_epoch=200,\n",
    "    epochs=50,\n",
    "    validation_data=validation_generator,\n",
    "    validation_steps=100)"
   ]
  },
  {
   "cell_type": "code",
   "execution_count": 62,
   "metadata": {},
   "outputs": [
    {
     "data": {
      "text/plain": [
       "<matplotlib.figure.Figure at 0x133e6b310>"
      ]
     },
     "execution_count": 62,
     "metadata": {},
     "output_type": "execute_result"
    },
    {
     "data": {
      "image/png": "[encoded data removed]",
      "text/plain": [
       "<matplotlib.figure.Figure at 0x12ae65650>"
      ]
     },
     "metadata": {
      "needs_background": "light"
     },
     "output_type": "display_data"
    },
    {
     "data": {
      "text/plain": [
       "<matplotlib.figure.Figure at 0x133e6b310>"
      ]
     },
     "metadata": {},
     "output_type": "display_data"
    }
   ],
   "source": [
    "import matplotlib.pyplot as plt\n",
    "\n",
    "acc = history.history['acc']\n",
    "val_acc = history.history['val_acc']\n",
    "loss = history.history['loss']\n",
    "val_loss = history.history['val_loss']\n",
    "\n",
    "epochs = range(1, len(acc) + 1)\n",
    "\n",
    "plt.plot(epochs, acc, 'bo', label='Training acc')\n",
    "plt.plot(epochs, val_acc, 'b', label='Validation acc')\n",
    "plt.title('Training and Validation accuracy')\n",
    "plt.legend()\n",
    "plt.figure()"
   ]
  },
  {
   "cell_type": "code",
   "execution_count": 63,
   "metadata": {},
   "outputs": [
    {
     "data": {
      "image/png": "[encoded data removed]",
      "text/plain": [
       "<matplotlib.figure.Figure at 0x133df6ad0>"
      ]
     },
     "metadata": {
      "needs_background": "light"
     },
     "output_type": "display_data"
    }
   ],
   "source": [
    "plt.plot(epochs, loss, 'bo', label='Training loss')\n",
    "plt.plot(epochs, val_loss, 'b', label='Validation loss')\n",
    "plt.title('Training and Validation loss')\n",
    "plt.legend()\n",
    "plt.show()"
   ]
  },
  {
   "cell_type": "code",
   "execution_count": 64,
   "metadata": {},
   "outputs": [],
   "source": [
    "model.save('malaria_detector_data_augmented.h5')"
   ]
  },
  {
   "cell_type": "code",
   "execution_count": 5,
   "metadata": {},
   "outputs": [
    {
     "name": "stdout",
     "output_type": "stream",
     "text": [
      "Found 2000 images belonging to 2 classes.\n"
     ]
    }
   ],
   "source": [
    "model = models.load_model('malaria_detector_data_augmented.h5')\n",
    "\n",
    "test_data_generator = ImageDataGenerator(rescale=1./255)\n",
    "\n",
    "test_generator = test_data_generator.flow_from_directory(test_dir,\n",
    "                                                         target_size=(150,150),\n",
    "                                                         batch_size=20,\n",
    "                                                         class_mode='binary')\n",
    "\n",
    "test_loss, test_acc = model.evaluate_generator(test_generator, steps=100)"
   ]
  },
  {
   "cell_type": "code",
   "execution_count": 9,
   "metadata": {},
   "outputs": [
    {
     "name": "stdout",
     "output_type": "stream",
     "text": [
      "test acc: 0.9519999927282333\n"
     ]
    }
   ],
   "source": [
    "print('test acc: ' + str(test_acc))"
   ]
  },
  {
   "cell_type": "markdown",
   "metadata": {},
   "source": [
    "Part5. < Use SeparableConv2D to substitute Conv2D >\n",
    "    - Use depthwise separable convolution (Separable Conv2D)\n",
    "    - Separable Conv2D is lighter (less model parameters to train) and faster"
   ]
  },
  {
   "cell_type": "code",
   "execution_count": 117,
   "metadata": {},
   "outputs": [],
   "source": [
    "model = models.Sequential()\n",
    "model.add(layers.SeparableConv2D(32, (3, 3),\n",
    "                                 activation='relu',\n",
    "                                 kernel_regularizer=l2(0.001),\n",
    "                                 input_shape=(150, 150, 3, )))\n",
    "model.add(layers.MaxPooling2D((2, 2)))\n",
    "model.add(layers.SeparableConv2D(64, (3, 3), activation='relu', kernel_regularizer=l2(0.001)))\n",
    "model.add(layers.MaxPooling2D((2, 2)))\n",
    "model.add(layers.SeparableConv2D(128, (3, 3), activation='relu', kernel_regularizer=l2(0.001)))\n",
    "model.add(layers.MaxPooling2D((2, 2)))\n",
    "model.add(layers.SeparableConv2D(128, (3, 3), activation='relu', kernel_regularizer=l2(0.001)))\n",
    "model.add(layers.MaxPooling2D((2, 2)))\n",
    "model.add(layers.BatchNormalization())\n",
    "model.add(layers.Flatten())\n",
    "model.add(layers.Dense(512, activation='relu'))\n",
    "model.add(layers.Dense(1, activation='sigmoid'))"
   ]
  },
  {
   "cell_type": "code",
   "execution_count": 118,
   "metadata": {
    "scrolled": true
   },
   "outputs": [
    {
     "name": "stdout",
     "output_type": "stream",
     "text": [
      "_________________________________________________________________\n",
      "Layer (type)                 Output Shape              Param #   \n",
      "=================================================================\n",
      "separable_conv2d_126 (Separa (None, 148, 148, 32)      155       \n",
      "_________________________________________________________________\n",
      "max_pooling2d_109 (MaxPoolin (None, 74, 74, 32)        0         \n",
      "_________________________________________________________________\n",
      "separable_conv2d_127 (Separa (None, 72, 72, 64)        2400      \n",
      "_________________________________________________________________\n",
      "max_pooling2d_110 (MaxPoolin (None, 36, 36, 64)        0         \n",
      "_________________________________________________________________\n",
      "separable_conv2d_128 (Separa (None, 34, 34, 128)       8896      \n",
      "_________________________________________________________________\n",
      "max_pooling2d_111 (MaxPoolin (None, 17, 17, 128)       0         \n",
      "_________________________________________________________________\n",
      "separable_conv2d_129 (Separa (None, 15, 15, 128)       17664     \n",
      "_________________________________________________________________\n",
      "max_pooling2d_112 (MaxPoolin (None, 7, 7, 128)         0         \n",
      "_________________________________________________________________\n",
      "batch_normalization_26 (Batc (None, 7, 7, 128)         512       \n",
      "_________________________________________________________________\n",
      "flatten_29 (Flatten)         (None, 6272)              0         \n",
      "_________________________________________________________________\n",
      "dense_57 (Dense)             (None, 512)               3211776   \n",
      "_________________________________________________________________\n",
      "dense_58 (Dense)             (None, 1)                 513       \n",
      "=================================================================\n",
      "Total params: 3,241,916\n",
      "Trainable params: 3,241,660\n",
      "Non-trainable params: 256\n",
      "_________________________________________________________________\n"
     ]
    }
   ],
   "source": [
    "model.summary()"
   ]
  },
  {
   "cell_type": "code",
   "execution_count": 119,
   "metadata": {},
   "outputs": [],
   "source": [
    "model.compile(loss='binary_crossentropy',\n",
    "              optimizer=optimizers.RMSprop(lr=1e-5), #learning rate lowered from 1e-4\n",
    "              metrics=['acc'])"
   ]
  },
  {
   "cell_type": "code",
   "execution_count": 120,
   "metadata": {},
   "outputs": [
    {
     "name": "stdout",
     "output_type": "stream",
     "text": [
      "Found 4000 images belonging to 2 classes.\n",
      "Found 2000 images belonging to 2 classes.\n"
     ]
    }
   ],
   "source": [
    "# Scale every image by 1/255\n",
    "train_data_generator = ImageDataGenerator(rescale=1./255)\n",
    "test_data_generator = ImageDataGenerator(rescale=1./255)\n",
    "\n",
    "train_generator = train_data_generator.flow_from_directory(\n",
    "    train_dir,\n",
    "    target_size=(150, 150),\n",
    "    batch_size=20,\n",
    "    class_mode='binary')\n",
    "\n",
    "validation_generator = test_data_generator.flow_from_directory(\n",
    "    validation_dir,\n",
    "    target_size=(150, 150),\n",
    "    batch_size=20,\n",
    "    class_mode='binary')"
   ]
  },
  {
   "cell_type": "code",
   "execution_count": 121,
   "metadata": {
    "scrolled": true
   },
   "outputs": [
    {
     "name": "stdout",
     "output_type": "stream",
     "text": [
      "Epoch 1/30\n",
      "200/200 [==============================] - 131s 656ms/step - loss: 0.6901 - acc: 0.6120 - val_loss: 0.6856 - val_acc: 0.6530\n",
      "Epoch 2/30\n",
      "200/200 [==============================] - 122s 612ms/step - loss: 0.6795 - acc: 0.6280 - val_loss: 0.6702 - val_acc: 0.6585\n",
      "Epoch 3/30\n",
      "200/200 [==============================] - 121s 606ms/step - loss: 0.6638 - acc: 0.6375 - val_loss: 0.6522 - val_acc: 0.6585\n",
      "Epoch 4/30\n",
      "200/200 [==============================] - 114s 569ms/step - loss: 0.6490 - acc: 0.6405 - val_loss: 0.6383 - val_acc: 0.6630\n",
      "Epoch 5/30\n",
      "200/200 [==============================] - 126s 628ms/step - loss: 0.6397 - acc: 0.6432 - val_loss: 0.6288 - val_acc: 0.6635\n",
      "Epoch 6/30\n",
      "200/200 [==============================] - 114s 570ms/step - loss: 0.6314 - acc: 0.6542 - val_loss: 0.6240 - val_acc: 0.6600\n",
      "Epoch 7/30\n",
      "200/200 [==============================] - 114s 570ms/step - loss: 0.6265 - acc: 0.6585 - val_loss: 0.6236 - val_acc: 0.6630\n",
      "Epoch 8/30\n",
      "200/200 [==============================] - 115s 574ms/step - loss: 0.6196 - acc: 0.6575 - val_loss: 0.6089 - val_acc: 0.6805\n",
      "Epoch 9/30\n",
      "200/200 [==============================] - 118s 588ms/step - loss: 0.6114 - acc: 0.6725 - val_loss: 0.6008 - val_acc: 0.6840\n",
      "Epoch 10/30\n",
      "200/200 [==============================] - 115s 574ms/step - loss: 0.6045 - acc: 0.6822 - val_loss: 0.6080 - val_acc: 0.6975\n",
      "Epoch 11/30\n",
      "200/200 [==============================] - 115s 574ms/step - loss: 0.6032 - acc: 0.6775 - val_loss: 0.5921 - val_acc: 0.7035\n",
      "Epoch 12/30\n",
      "200/200 [==============================] - 115s 577ms/step - loss: 0.5929 - acc: 0.6975 - val_loss: 0.5827 - val_acc: 0.7125\n",
      "Epoch 13/30\n",
      "200/200 [==============================] - 116s 581ms/step - loss: 0.5847 - acc: 0.7015 - val_loss: 0.5728 - val_acc: 0.7080\n",
      "Epoch 14/30\n",
      "200/200 [==============================] - 115s 574ms/step - loss: 0.5790 - acc: 0.7113 - val_loss: 0.6040 - val_acc: 0.7050\n",
      "Epoch 15/30\n",
      "200/200 [==============================] - 115s 576ms/step - loss: 0.5736 - acc: 0.7092 - val_loss: 0.5805 - val_acc: 0.7230\n",
      "Epoch 16/30\n",
      "200/200 [==============================] - 115s 577ms/step - loss: 0.5646 - acc: 0.7182 - val_loss: 0.5961 - val_acc: 0.7110\n",
      "Epoch 17/30\n",
      "200/200 [==============================] - 116s 578ms/step - loss: 0.5595 - acc: 0.7255 - val_loss: 0.5810 - val_acc: 0.7270\n",
      "Epoch 18/30\n",
      "200/200 [==============================] - 120s 600ms/step - loss: 0.5485 - acc: 0.7352 - val_loss: 0.5519 - val_acc: 0.7470\n",
      "Epoch 19/30\n",
      "200/200 [==============================] - 125s 627ms/step - loss: 0.5420 - acc: 0.7393 - val_loss: 0.5492 - val_acc: 0.7530\n",
      "Epoch 20/30\n",
      "200/200 [==============================] - 127s 635ms/step - loss: 0.5367 - acc: 0.7405 - val_loss: 0.5845 - val_acc: 0.7035\n",
      "Epoch 21/30\n",
      "200/200 [==============================] - 120s 599ms/step - loss: 0.5295 - acc: 0.7568 - val_loss: 0.5497 - val_acc: 0.7545\n",
      "Epoch 22/30\n",
      "200/200 [==============================] - 120s 602ms/step - loss: 0.5212 - acc: 0.7533 - val_loss: 0.5641 - val_acc: 0.7370\n",
      "Epoch 23/30\n",
      "200/200 [==============================] - 118s 592ms/step - loss: 0.5162 - acc: 0.7610 - val_loss: 0.5080 - val_acc: 0.7685\n",
      "Epoch 24/30\n",
      "200/200 [==============================] - 135s 676ms/step - loss: 0.5111 - acc: 0.7708 - val_loss: 0.5137 - val_acc: 0.7735\n",
      "Epoch 25/30\n",
      "200/200 [==============================] - 121s 605ms/step - loss: 0.5019 - acc: 0.7703 - val_loss: 0.5192 - val_acc: 0.7715\n",
      "Epoch 26/30\n",
      "200/200 [==============================] - 128s 641ms/step - loss: 0.4959 - acc: 0.7722 - val_loss: 0.4899 - val_acc: 0.7805\n",
      "Epoch 27/30\n",
      "200/200 [==============================] - 130s 650ms/step - loss: 0.4922 - acc: 0.7785 - val_loss: 0.4902 - val_acc: 0.7880\n",
      "Epoch 28/30\n",
      "200/200 [==============================] - 120s 599ms/step - loss: 0.4811 - acc: 0.7767 - val_loss: 0.4827 - val_acc: 0.7930\n",
      "Epoch 29/30\n",
      "200/200 [==============================] - 125s 623ms/step - loss: 0.4804 - acc: 0.7808 - val_loss: 0.4733 - val_acc: 0.8010\n",
      "Epoch 30/30\n",
      "200/200 [==============================] - 133s 665ms/step - loss: 0.4730 - acc: 0.7845 - val_loss: 0.5089 - val_acc: 0.7725\n"
     ]
    }
   ],
   "source": [
    "history = model.fit_generator(\n",
    "    train_generator,\n",
    "    steps_per_epoch=200,\n",
    "    epochs=30, # Increased epochs from 20 to 30\n",
    "    validation_data=validation_generator,\n",
    "    validation_steps=100)"
   ]
  },
  {
   "cell_type": "code",
   "execution_count": 138,
   "metadata": {
    "scrolled": true
   },
   "outputs": [
    {
     "name": "stdout",
     "output_type": "stream",
     "text": [
      "Epoch 1/30\n",
      "200/200 [==============================] - 126s 628ms/step - loss: 0.4690 - acc: 0.7910 - val_loss: 0.4645 - val_acc: 0.8000\n",
      "Epoch 2/30\n",
      "200/200 [==============================] - 129s 643ms/step - loss: 0.4621 - acc: 0.7915 - val_loss: 0.4621 - val_acc: 0.8040\n",
      "Epoch 3/30\n",
      "200/200 [==============================] - 173s 864ms/step - loss: 0.4653 - acc: 0.7873 - val_loss: 0.4504 - val_acc: 0.8090\n",
      "Epoch 4/30\n",
      "200/200 [==============================] - 159s 795ms/step - loss: 0.4448 - acc: 0.7960 - val_loss: 0.4481 - val_acc: 0.7810\n",
      "Epoch 5/30\n",
      "200/200 [==============================] - 174s 868ms/step - loss: 0.4483 - acc: 0.8005 - val_loss: 0.4466 - val_acc: 0.8145\n",
      "Epoch 6/30\n",
      "200/200 [==============================] - 124s 619ms/step - loss: 0.4422 - acc: 0.8007 - val_loss: 0.4519 - val_acc: 0.8070\n",
      "Epoch 7/30\n",
      "200/200 [==============================] - 118s 588ms/step - loss: 0.4368 - acc: 0.8093 - val_loss: 0.4300 - val_acc: 0.8105\n",
      "Epoch 8/30\n",
      "200/200 [==============================] - 121s 603ms/step - loss: 0.4328 - acc: 0.8023 - val_loss: 0.4163 - val_acc: 0.8215\n",
      "Epoch 9/30\n",
      "200/200 [==============================] - 118s 589ms/step - loss: 0.4238 - acc: 0.8103 - val_loss: 0.4330 - val_acc: 0.8240\n",
      "Epoch 10/30\n",
      "200/200 [==============================] - 118s 589ms/step - loss: 0.4248 - acc: 0.8110 - val_loss: 0.4179 - val_acc: 0.8335\n",
      "Epoch 11/30\n",
      "200/200 [==============================] - 118s 590ms/step - loss: 0.4166 - acc: 0.8140 - val_loss: 0.4680 - val_acc: 0.7935\n",
      "Epoch 12/30\n",
      "200/200 [==============================] - 118s 589ms/step - loss: 0.4095 - acc: 0.8180 - val_loss: 0.4131 - val_acc: 0.8315\n",
      "Epoch 13/30\n",
      "200/200 [==============================] - 118s 591ms/step - loss: 0.4096 - acc: 0.8148 - val_loss: 0.4017 - val_acc: 0.8375\n",
      "Epoch 14/30\n",
      "200/200 [==============================] - 120s 600ms/step - loss: 0.4025 - acc: 0.8178 - val_loss: 0.3882 - val_acc: 0.8315\n",
      "Epoch 15/30\n",
      "200/200 [==============================] - 118s 588ms/step - loss: 0.4012 - acc: 0.8218 - val_loss: 0.4032 - val_acc: 0.8070\n",
      "Epoch 16/30\n",
      "200/200 [==============================] - 118s 591ms/step - loss: 0.3860 - acc: 0.8328 - val_loss: 0.3828 - val_acc: 0.8560\n",
      "Epoch 17/30\n",
      "200/200 [==============================] - 134s 671ms/step - loss: 0.3921 - acc: 0.8240 - val_loss: 0.3989 - val_acc: 0.8480\n",
      "Epoch 18/30\n",
      "200/200 [==============================] - 119s 595ms/step - loss: 0.3809 - acc: 0.8325 - val_loss: 0.3842 - val_acc: 0.8280\n",
      "Epoch 19/30\n",
      "200/200 [==============================] - 117s 587ms/step - loss: 0.3859 - acc: 0.8330 - val_loss: 0.3733 - val_acc: 0.8575\n",
      "Epoch 20/30\n",
      "200/200 [==============================] - 115s 573ms/step - loss: 0.3679 - acc: 0.8365 - val_loss: 0.3591 - val_acc: 0.8575\n",
      "Epoch 21/30\n",
      "200/200 [==============================] - 118s 590ms/step - loss: 0.3716 - acc: 0.8345 - val_loss: 0.3599 - val_acc: 0.8340\n",
      "Epoch 22/30\n",
      "200/200 [==============================] - 124s 619ms/step - loss: 0.3643 - acc: 0.8380 - val_loss: 0.3813 - val_acc: 0.8080\n",
      "Epoch 23/30\n",
      "200/200 [==============================] - 134s 669ms/step - loss: 0.3565 - acc: 0.8385 - val_loss: 0.3491 - val_acc: 0.8610\n",
      "Epoch 24/30\n",
      "200/200 [==============================] - 143s 716ms/step - loss: 0.3658 - acc: 0.8413 - val_loss: 0.3591 - val_acc: 0.8340\n",
      "Epoch 25/30\n",
      "200/200 [==============================] - 119s 597ms/step - loss: 0.3488 - acc: 0.8490 - val_loss: 0.3337 - val_acc: 0.8690\n",
      "Epoch 26/30\n",
      "200/200 [==============================] - 118s 588ms/step - loss: 0.3496 - acc: 0.8500 - val_loss: 0.3598 - val_acc: 0.8310\n",
      "Epoch 27/30\n",
      "200/200 [==============================] - 118s 589ms/step - loss: 0.3478 - acc: 0.8525 - val_loss: 0.3310 - val_acc: 0.8645\n",
      "Epoch 28/30\n",
      "200/200 [==============================] - 140s 699ms/step - loss: 0.3419 - acc: 0.8453 - val_loss: 0.3260 - val_acc: 0.8630\n",
      "Epoch 29/30\n",
      "200/200 [==============================] - 185s 925ms/step - loss: 0.3302 - acc: 0.8600 - val_loss: 0.3701 - val_acc: 0.8525\n",
      "Epoch 30/30\n",
      "200/200 [==============================] - 165s 826ms/step - loss: 0.3374 - acc: 0.8527 - val_loss: 0.3101 - val_acc: 0.8750\n"
     ]
    }
   ],
   "source": [
    "# Since the model has not been overfitted, train for one more cycle\n",
    "history = model.fit_generator(\n",
    "    train_generator,\n",
    "    steps_per_epoch=200,\n",
    "    epochs=30, # Increased epochs from 20 to 30\n",
    "    validation_data=validation_generator,\n",
    "    validation_steps=100)"
   ]
  },
  {
   "cell_type": "code",
   "execution_count": 139,
   "metadata": {},
   "outputs": [],
   "source": [
    "model.save('malaria_detector_separableConv2D')\n",
    "# compared to malaria_detector_overfitted & malaria_detector_regularized, time for each epoch is shorter\n",
    "# but accuracy and loss improved very slowly"
   ]
  },
  {
   "cell_type": "code",
   "execution_count": 15,
   "metadata": {},
   "outputs": [
    {
     "name": "stdout",
     "output_type": "stream",
     "text": [
      "Found 2000 images belonging to 2 classes.\n"
     ]
    }
   ],
   "source": [
    "model = models.load_model('malaria_detector_separableConv2D')\n",
    "\n",
    "test_data_generator = ImageDataGenerator(rescale=1./255)\n",
    "\n",
    "test_generator = test_data_generator.flow_from_directory(test_dir,\n",
    "                                                         target_size=(150,150),\n",
    "                                                         batch_size=20,\n",
    "                                                         class_mode='binary')\n",
    "\n",
    "test_loss, test_acc = model.evaluate_generator(test_generator, steps=100)"
   ]
  },
  {
   "cell_type": "code",
   "execution_count": 16,
   "metadata": {},
   "outputs": [
    {
     "name": "stdout",
     "output_type": "stream",
     "text": [
      "test acc: 0.8694999974966049\n"
     ]
    }
   ],
   "source": [
    "print('test acc: ' + str(test_acc))"
   ]
  },
  {
   "cell_type": "code",
   "execution_count": 140,
   "metadata": {},
   "outputs": [
    {
     "data": {
      "text/plain": [
       "<matplotlib.figure.Figure at 0x143340c90>"
      ]
     },
     "execution_count": 140,
     "metadata": {},
     "output_type": "execute_result"
    },
    {
     "data": {
      "image/png": "[encoded data removed]",
      "text/plain": [
       "<matplotlib.figure.Figure at 0x14890d450>"
      ]
     },
     "metadata": {
      "needs_background": "light"
     },
     "output_type": "display_data"
    },
    {
     "data": {
      "text/plain": [
       "<matplotlib.figure.Figure at 0x143340c90>"
      ]
     },
     "metadata": {},
     "output_type": "display_data"
    }
   ],
   "source": [
    "import matplotlib.pyplot as plt\n",
    "\n",
    "acc = history.history['acc']\n",
    "val_acc = history.history['val_acc']\n",
    "loss = history.history['loss']\n",
    "val_loss = history.history['val_loss']\n",
    "\n",
    "epochs = range(1, len(acc) + 1)\n",
    "\n",
    "plt.plot(epochs, acc, 'bo', label='Training acc')\n",
    "plt.plot(epochs, val_acc, 'b', label='Validation acc')\n",
    "plt.title('Training and Validation accuracy')\n",
    "plt.legend()\n",
    "plt.figure()"
   ]
  },
  {
   "cell_type": "code",
   "execution_count": 141,
   "metadata": {},
   "outputs": [
    {
     "data": {
      "image/png": "[encoded data removed]",
      "text/plain": [
       "<matplotlib.figure.Figure at 0x1488ff550>"
      ]
     },
     "metadata": {
      "needs_background": "light"
     },
     "output_type": "display_data"
    }
   ],
   "source": [
    "plt.plot(epochs, loss, 'bo', label='Training loss')\n",
    "plt.plot(epochs, val_loss, 'b', label='Validation loss')\n",
    "plt.title('Training and Validation loss')\n",
    "plt.legend()\n",
    "plt.show()"
   ]
  },
  {
   "cell_type": "markdown",
   "metadata": {},
   "source": [
    "Part6. < Use pre-trained network to compare with the model trained above >\n",
    "    - only reuse the portion of CNN layers (b/c the rest is specificly trained to a different problem)\n",
    "    - Reference from : Deep Learning with Python written by Francois Chollet"
   ]
  },
  {
   "cell_type": "code",
   "execution_count": 10,
   "metadata": {},
   "outputs": [],
   "source": [
    "from keras.applications import VGG16\n",
    "conv_base = VGG16(weights='imagenet',\n",
    "                  include_top=False,\n",
    "                  input_shape=(150,150,3))"
   ]
  },
  {
   "cell_type": "code",
   "execution_count": 11,
   "metadata": {
    "scrolled": true
   },
   "outputs": [
    {
     "name": "stdout",
     "output_type": "stream",
     "text": [
      "_________________________________________________________________\n",
      "Layer (type)                 Output Shape              Param #   \n",
      "=================================================================\n",
      "input_2 (InputLayer)         (None, 150, 150, 3)       0         \n",
      "_________________________________________________________________\n",
      "block1_conv1 (Conv2D)        (None, 150, 150, 64)      1792      \n",
      "_________________________________________________________________\n",
      "block1_conv2 (Conv2D)        (None, 150, 150, 64)      36928     \n",
      "_________________________________________________________________\n",
      "block1_pool (MaxPooling2D)   (None, 75, 75, 64)        0         \n",
      "_________________________________________________________________\n",
      "block2_conv1 (Conv2D)        (None, 75, 75, 128)       73856     \n",
      "_________________________________________________________________\n",
      "block2_conv2 (Conv2D)        (None, 75, 75, 128)       147584    \n",
      "_________________________________________________________________\n",
      "block2_pool (MaxPooling2D)   (None, 37, 37, 128)       0         \n",
      "_________________________________________________________________\n",
      "block3_conv1 (Conv2D)        (None, 37, 37, 256)       295168    \n",
      "_________________________________________________________________\n",
      "block3_conv2 (Conv2D)        (None, 37, 37, 256)       590080    \n",
      "_________________________________________________________________\n",
      "block3_conv3 (Conv2D)        (None, 37, 37, 256)       590080    \n",
      "_________________________________________________________________\n",
      "block3_pool (MaxPooling2D)   (None, 18, 18, 256)       0         \n",
      "_________________________________________________________________\n",
      "block4_conv1 (Conv2D)        (None, 18, 18, 512)       1180160   \n",
      "_________________________________________________________________\n",
      "block4_conv2 (Conv2D)        (None, 18, 18, 512)       2359808   \n",
      "_________________________________________________________________\n",
      "block4_conv3 (Conv2D)        (None, 18, 18, 512)       2359808   \n",
      "_________________________________________________________________\n",
      "block4_pool (MaxPooling2D)   (None, 9, 9, 512)         0         \n",
      "_________________________________________________________________\n",
      "block5_conv1 (Conv2D)        (None, 9, 9, 512)         2359808   \n",
      "_________________________________________________________________\n",
      "block5_conv2 (Conv2D)        (None, 9, 9, 512)         2359808   \n",
      "_________________________________________________________________\n",
      "block5_conv3 (Conv2D)        (None, 9, 9, 512)         2359808   \n",
      "_________________________________________________________________\n",
      "block5_pool (MaxPooling2D)   (None, 4, 4, 512)         0         \n",
      "=================================================================\n",
      "Total params: 14,714,688\n",
      "Trainable params: 14,714,688\n",
      "Non-trainable params: 0\n",
      "_________________________________________________________________\n"
     ]
    }
   ],
   "source": [
    "conv_base.summary()"
   ]
  },
  {
   "cell_type": "code",
   "execution_count": 41,
   "metadata": {},
   "outputs": [],
   "source": [
    "# Reference from : Deep Learning with Python written by Francois Chollet\n",
    "import numpy as np\n",
    "\n",
    "data_generator = ImageDataGenerator(rescale=1./255)\n",
    "batch_size = 20\n",
    "def extract_features(directory, num_sample):\n",
    "    features = np.zeros(shape=(num_sample,4,4,512)) #b/c shape of final feature map is (None,4,4,512)\n",
    "    labels = np.zeros(shape=(num_sample))\n",
    "    generator = data_generator.flow_from_directory(directory,\n",
    "                                                   target_size=(150,150),\n",
    "                                                   batch_size=batch_size,\n",
    "                                                   class_mode='binary')\n",
    "    i = 0\n",
    "    for input_batch, label_batch in generator:\n",
    "        feature_batch = conv_base.predict(input_batch)\n",
    "        features[i*batch_size : (i+1)*batch_size] = feature_batch\n",
    "        labels[i*batch_size : (i+1)*batch_size] = label_batch\n",
    "        i += 1\n",
    "        if i*batch_size >= num_sample:\n",
    "            break\n",
    "    return features, labels"
   ]
  },
  {
   "cell_type": "code",
   "execution_count": 13,
   "metadata": {},
   "outputs": [
    {
     "name": "stdout",
     "output_type": "stream",
     "text": [
      "Found 4000 images belonging to 2 classes.\n"
     ]
    }
   ],
   "source": [
    "train_features, train_labels = extract_features(train_dir, 4000)"
   ]
  },
  {
   "cell_type": "code",
   "execution_count": 14,
   "metadata": {},
   "outputs": [
    {
     "name": "stdout",
     "output_type": "stream",
     "text": [
      "Found 2000 images belonging to 2 classes.\n"
     ]
    }
   ],
   "source": [
    "validation_dir = os.path.join(data_dir, 'validation')\n",
    "validation_features, validation_labels = extract_features(validation_dir, 2000)"
   ]
  },
  {
   "cell_type": "code",
   "execution_count": 42,
   "metadata": {},
   "outputs": [
    {
     "name": "stdout",
     "output_type": "stream",
     "text": [
      "(4000, 4, 4, 512)\n",
      "(4000,)\n",
      "(2000, 4, 4, 512)\n",
      "(2000,)\n"
     ]
    }
   ],
   "source": [
    "print(train_features.shape)\n",
    "print(train_labels.shape)\n",
    "print(validation_features.shape)\n",
    "print(validation_labels.shape)"
   ]
  },
  {
   "cell_type": "code",
   "execution_count": 50,
   "metadata": {},
   "outputs": [],
   "source": [
    "model = models.Sequential()\n",
    "model.add(layers.Flatten())\n",
    "model.add(layers.Dense(256, activation='relu'))\n",
    "model.add(layers.Dropout(0.5))\n",
    "model.add(layers.Dense(1,activation='sigmoid'))"
   ]
  },
  {
   "cell_type": "code",
   "execution_count": 51,
   "metadata": {},
   "outputs": [],
   "source": [
    "model.compile(loss='binary_crossentropy',\n",
    "              optimizer=optimizers.RMSprop(lr=2e-5),\n",
    "              metrics=['acc'])"
   ]
  },
  {
   "cell_type": "code",
   "execution_count": 52,
   "metadata": {
    "scrolled": true
   },
   "outputs": [
    {
     "name": "stdout",
     "output_type": "stream",
     "text": [
      "Train on 4000 samples, validate on 2000 samples\n",
      "Epoch 1/100\n",
      "4000/4000 [==============================] - 5s 1ms/step - loss: 0.5497 - acc: 0.7195 - val_loss: 0.4185 - val_acc: 0.8425\n",
      "Epoch 2/100\n",
      "4000/4000 [==============================] - 4s 1ms/step - loss: 0.4019 - acc: 0.8320 - val_loss: 0.3485 - val_acc: 0.8580\n",
      "Epoch 3/100\n",
      "4000/4000 [==============================] - 5s 1ms/step - loss: 0.3426 - acc: 0.8635 - val_loss: 0.3160 - val_acc: 0.8775\n",
      "Epoch 4/100\n",
      "4000/4000 [==============================] - 5s 1ms/step - loss: 0.3076 - acc: 0.8705 - val_loss: 0.2889 - val_acc: 0.8895\n",
      "Epoch 5/100\n",
      "4000/4000 [==============================] - 4s 1ms/step - loss: 0.2856 - acc: 0.8902 - val_loss: 0.2727 - val_acc: 0.8845\n",
      "Epoch 6/100\n",
      "4000/4000 [==============================] - 4s 1ms/step - loss: 0.2676 - acc: 0.8967 - val_loss: 0.2567 - val_acc: 0.9030\n",
      "Epoch 7/100\n",
      "4000/4000 [==============================] - 5s 1ms/step - loss: 0.2506 - acc: 0.9065 - val_loss: 0.2477 - val_acc: 0.9020\n",
      "Epoch 8/100\n",
      "4000/4000 [==============================] - 4s 1ms/step - loss: 0.2361 - acc: 0.9100 - val_loss: 0.2389 - val_acc: 0.9020\n",
      "Epoch 9/100\n",
      "4000/4000 [==============================] - 5s 1ms/step - loss: 0.2274 - acc: 0.9192 - val_loss: 0.2360 - val_acc: 0.8995\n",
      "Epoch 10/100\n",
      "4000/4000 [==============================] - 4s 1ms/step - loss: 0.2231 - acc: 0.9130 - val_loss: 0.2252 - val_acc: 0.9120\n",
      "Epoch 11/100\n",
      "4000/4000 [==============================] - 4s 1ms/step - loss: 0.2126 - acc: 0.9245 - val_loss: 0.2227 - val_acc: 0.9195\n",
      "Epoch 12/100\n",
      "4000/4000 [==============================] - 4s 1ms/step - loss: 0.2091 - acc: 0.9212 - val_loss: 0.2158 - val_acc: 0.9130\n",
      "Epoch 13/100\n",
      "4000/4000 [==============================] - 5s 1ms/step - loss: 0.1975 - acc: 0.9255 - val_loss: 0.2117 - val_acc: 0.9180\n",
      "Epoch 14/100\n",
      "4000/4000 [==============================] - 5s 1ms/step - loss: 0.1909 - acc: 0.9312 - val_loss: 0.2088 - val_acc: 0.9140\n",
      "Epoch 15/100\n",
      "4000/4000 [==============================] - 5s 1ms/step - loss: 0.1883 - acc: 0.9310 - val_loss: 0.2059 - val_acc: 0.9175\n",
      "Epoch 16/100\n",
      "4000/4000 [==============================] - 5s 1ms/step - loss: 0.1817 - acc: 0.9330 - val_loss: 0.2038 - val_acc: 0.9140\n",
      "Epoch 17/100\n",
      "4000/4000 [==============================] - 5s 1ms/step - loss: 0.1800 - acc: 0.9347 - val_loss: 0.2019 - val_acc: 0.9155\n",
      "Epoch 18/100\n",
      "4000/4000 [==============================] - 5s 1ms/step - loss: 0.1741 - acc: 0.9395 - val_loss: 0.1976 - val_acc: 0.9210\n",
      "Epoch 19/100\n",
      "4000/4000 [==============================] - 5s 1ms/step - loss: 0.1715 - acc: 0.9355 - val_loss: 0.1985 - val_acc: 0.9240\n",
      "Epoch 20/100\n",
      "4000/4000 [==============================] - 5s 1ms/step - loss: 0.1661 - acc: 0.9375 - val_loss: 0.2051 - val_acc: 0.9265\n",
      "Epoch 21/100\n",
      "4000/4000 [==============================] - 5s 1ms/step - loss: 0.1627 - acc: 0.9367 - val_loss: 0.1931 - val_acc: 0.9220\n",
      "Epoch 22/100\n",
      "4000/4000 [==============================] - 5s 1ms/step - loss: 0.1611 - acc: 0.9425 - val_loss: 0.1919 - val_acc: 0.9225\n",
      "Epoch 23/100\n",
      "4000/4000 [==============================] - 6s 1ms/step - loss: 0.1574 - acc: 0.9410 - val_loss: 0.2089 - val_acc: 0.9275\n",
      "Epoch 24/100\n",
      "4000/4000 [==============================] - 6s 2ms/step - loss: 0.1545 - acc: 0.9442 - val_loss: 0.2118 - val_acc: 0.9240\n",
      "Epoch 25/100\n",
      "4000/4000 [==============================] - 4s 1ms/step - loss: 0.1516 - acc: 0.9447 - val_loss: 0.1880 - val_acc: 0.9240\n",
      "Epoch 26/100\n",
      "4000/4000 [==============================] - 4s 1ms/step - loss: 0.1490 - acc: 0.9445 - val_loss: 0.1871 - val_acc: 0.9240\n",
      "Epoch 27/100\n",
      "4000/4000 [==============================] - 5s 1ms/step - loss: 0.1452 - acc: 0.9460 - val_loss: 0.1888 - val_acc: 0.9255\n",
      "Epoch 28/100\n",
      "4000/4000 [==============================] - 5s 1ms/step - loss: 0.1453 - acc: 0.9475 - val_loss: 0.1874 - val_acc: 0.9240\n",
      "Epoch 29/100\n",
      "4000/4000 [==============================] - 5s 1ms/step - loss: 0.1412 - acc: 0.9495 - val_loss: 0.1839 - val_acc: 0.9270\n",
      "Epoch 30/100\n",
      "4000/4000 [==============================] - 5s 1ms/step - loss: 0.1390 - acc: 0.9487 - val_loss: 0.1832 - val_acc: 0.9280\n",
      "Epoch 31/100\n",
      "4000/4000 [==============================] - 4s 1ms/step - loss: 0.1363 - acc: 0.9527 - val_loss: 0.1904 - val_acc: 0.9200\n",
      "Epoch 32/100\n",
      "4000/4000 [==============================] - 4s 1ms/step - loss: 0.1361 - acc: 0.9520 - val_loss: 0.1830 - val_acc: 0.9270\n",
      "Epoch 33/100\n",
      "4000/4000 [==============================] - 5s 1ms/step - loss: 0.1339 - acc: 0.9537 - val_loss: 0.1829 - val_acc: 0.9260\n",
      "Epoch 34/100\n",
      "4000/4000 [==============================] - 4s 1ms/step - loss: 0.1286 - acc: 0.9577 - val_loss: 0.1864 - val_acc: 0.9230\n",
      "Epoch 35/100\n",
      "4000/4000 [==============================] - 4s 1ms/step - loss: 0.1292 - acc: 0.9542 - val_loss: 0.1815 - val_acc: 0.9280\n",
      "Epoch 36/100\n",
      "4000/4000 [==============================] - 5s 1ms/step - loss: 0.1264 - acc: 0.9562 - val_loss: 0.1845 - val_acc: 0.9250\n",
      "Epoch 37/100\n",
      "4000/4000 [==============================] - 4s 1ms/step - loss: 0.1257 - acc: 0.9555 - val_loss: 0.1823 - val_acc: 0.9320\n",
      "Epoch 38/100\n",
      "4000/4000 [==============================] - 4s 1ms/step - loss: 0.1227 - acc: 0.9567 - val_loss: 0.1871 - val_acc: 0.9255\n",
      "Epoch 39/100\n",
      "4000/4000 [==============================] - 5s 1ms/step - loss: 0.1256 - acc: 0.9560 - val_loss: 0.1791 - val_acc: 0.9310\n",
      "Epoch 40/100\n",
      "4000/4000 [==============================] - 4s 984us/step - loss: 0.1197 - acc: 0.9592 - val_loss: 0.1819 - val_acc: 0.9330\n",
      "Epoch 41/100\n",
      "4000/4000 [==============================] - 4s 953us/step - loss: 0.1185 - acc: 0.9585 - val_loss: 0.1795 - val_acc: 0.9280\n",
      "Epoch 42/100\n",
      "4000/4000 [==============================] - 4s 953us/step - loss: 0.1164 - acc: 0.9605 - val_loss: 0.1849 - val_acc: 0.9245\n",
      "Epoch 43/100\n",
      "4000/4000 [==============================] - 4s 1ms/step - loss: 0.1143 - acc: 0.9615 - val_loss: 0.1856 - val_acc: 0.9235\n",
      "Epoch 44/100\n",
      "4000/4000 [==============================] - 4s 1ms/step - loss: 0.1148 - acc: 0.9622 - val_loss: 0.1786 - val_acc: 0.9350\n",
      "Epoch 45/100\n",
      "4000/4000 [==============================] - 4s 969us/step - loss: 0.1114 - acc: 0.9620 - val_loss: 0.1861 - val_acc: 0.9340\n",
      "Epoch 46/100\n",
      "4000/4000 [==============================] - 4s 953us/step - loss: 0.1092 - acc: 0.9647 - val_loss: 0.1787 - val_acc: 0.9330\n",
      "Epoch 47/100\n",
      "4000/4000 [==============================] - 5s 1ms/step - loss: 0.1072 - acc: 0.9645 - val_loss: 0.1792 - val_acc: 0.9295\n",
      "Epoch 48/100\n",
      "4000/4000 [==============================] - 5s 1ms/step - loss: 0.1110 - acc: 0.9615 - val_loss: 0.1807 - val_acc: 0.9290\n",
      "Epoch 49/100\n",
      "4000/4000 [==============================] - 5s 1ms/step - loss: 0.1056 - acc: 0.9645 - val_loss: 0.1809 - val_acc: 0.9285\n",
      "Epoch 50/100\n",
      "4000/4000 [==============================] - 4s 954us/step - loss: 0.1050 - acc: 0.9635 - val_loss: 0.1795 - val_acc: 0.9350\n",
      "Epoch 51/100\n",
      "4000/4000 [==============================] - 4s 952us/step - loss: 0.1028 - acc: 0.9655 - val_loss: 0.1789 - val_acc: 0.9320\n",
      "Epoch 52/100\n",
      "4000/4000 [==============================] - 5s 1ms/step - loss: 0.1040 - acc: 0.9665 - val_loss: 0.1790 - val_acc: 0.9300\n",
      "Epoch 53/100\n",
      "4000/4000 [==============================] - 6s 1ms/step - loss: 0.0988 - acc: 0.9675 - val_loss: 0.1805 - val_acc: 0.9315\n",
      "Epoch 54/100\n",
      "4000/4000 [==============================] - 5s 1ms/step - loss: 0.0983 - acc: 0.9667 - val_loss: 0.1806 - val_acc: 0.9325\n",
      "Epoch 55/100\n",
      "4000/4000 [==============================] - 5s 1ms/step - loss: 0.0969 - acc: 0.9662 - val_loss: 0.1782 - val_acc: 0.9340\n",
      "Epoch 56/100\n",
      "4000/4000 [==============================] - 5s 1ms/step - loss: 0.0972 - acc: 0.9665 - val_loss: 0.1878 - val_acc: 0.9255\n",
      "Epoch 57/100\n",
      "4000/4000 [==============================] - 5s 1ms/step - loss: 0.0970 - acc: 0.9665 - val_loss: 0.1842 - val_acc: 0.9285\n",
      "Epoch 58/100\n",
      "4000/4000 [==============================] - 5s 1ms/step - loss: 0.0967 - acc: 0.9700 - val_loss: 0.1837 - val_acc: 0.9295\n",
      "Epoch 59/100\n",
      "4000/4000 [==============================] - 5s 1ms/step - loss: 0.0929 - acc: 0.9705 - val_loss: 0.1854 - val_acc: 0.9365\n",
      "Epoch 60/100\n",
      "4000/4000 [==============================] - 5s 1ms/step - loss: 0.0939 - acc: 0.9692 - val_loss: 0.1879 - val_acc: 0.9270\n"
     ]
    },
    {
     "name": "stdout",
     "output_type": "stream",
     "text": [
      "Epoch 61/100\n",
      "4000/4000 [==============================] - 5s 1ms/step - loss: 0.0912 - acc: 0.9700 - val_loss: 0.1801 - val_acc: 0.9330\n",
      "Epoch 62/100\n",
      "4000/4000 [==============================] - 4s 1ms/step - loss: 0.0894 - acc: 0.9735 - val_loss: 0.1902 - val_acc: 0.9255\n",
      "Epoch 63/100\n",
      "4000/4000 [==============================] - 5s 1ms/step - loss: 0.0923 - acc: 0.9692 - val_loss: 0.1858 - val_acc: 0.9380\n",
      "Epoch 64/100\n",
      "4000/4000 [==============================] - 4s 1ms/step - loss: 0.0905 - acc: 0.9705 - val_loss: 0.1804 - val_acc: 0.9370\n",
      "Epoch 65/100\n",
      "4000/4000 [==============================] - 5s 1ms/step - loss: 0.0838 - acc: 0.9740 - val_loss: 0.1841 - val_acc: 0.9375\n",
      "Epoch 66/100\n",
      "4000/4000 [==============================] - 4s 1ms/step - loss: 0.0862 - acc: 0.9722 - val_loss: 0.1809 - val_acc: 0.9340\n",
      "Epoch 67/100\n",
      "4000/4000 [==============================] - 4s 1ms/step - loss: 0.0849 - acc: 0.9720 - val_loss: 0.1811 - val_acc: 0.9345\n",
      "Epoch 68/100\n",
      "4000/4000 [==============================] - 4s 1ms/step - loss: 0.0846 - acc: 0.9710 - val_loss: 0.1824 - val_acc: 0.9345\n",
      "Epoch 69/100\n",
      "4000/4000 [==============================] - 5s 1ms/step - loss: 0.0848 - acc: 0.9722 - val_loss: 0.1817 - val_acc: 0.9345\n",
      "Epoch 70/100\n",
      "4000/4000 [==============================] - 5s 1ms/step - loss: 0.0832 - acc: 0.9707 - val_loss: 0.1809 - val_acc: 0.9365\n",
      "Epoch 71/100\n",
      "4000/4000 [==============================] - 5s 1ms/step - loss: 0.0800 - acc: 0.9717 - val_loss: 0.1820 - val_acc: 0.9360\n",
      "Epoch 72/100\n",
      "4000/4000 [==============================] - 6s 1ms/step - loss: 0.0799 - acc: 0.9747 - val_loss: 0.1817 - val_acc: 0.9345\n",
      "Epoch 73/100\n",
      "4000/4000 [==============================] - 5s 1ms/step - loss: 0.0803 - acc: 0.9752 - val_loss: 0.1821 - val_acc: 0.9345\n",
      "Epoch 74/100\n",
      "4000/4000 [==============================] - 5s 1ms/step - loss: 0.0778 - acc: 0.9732 - val_loss: 0.1827 - val_acc: 0.9360\n",
      "Epoch 75/100\n",
      "4000/4000 [==============================] - 4s 1ms/step - loss: 0.0784 - acc: 0.9740 - val_loss: 0.1843 - val_acc: 0.9335\n",
      "Epoch 76/100\n",
      "4000/4000 [==============================] - 4s 1ms/step - loss: 0.0766 - acc: 0.9745 - val_loss: 0.1833 - val_acc: 0.9335\n",
      "Epoch 77/100\n",
      "4000/4000 [==============================] - 4s 1ms/step - loss: 0.0741 - acc: 0.9757 - val_loss: 0.1823 - val_acc: 0.9350\n",
      "Epoch 78/100\n",
      "4000/4000 [==============================] - 4s 1ms/step - loss: 0.0739 - acc: 0.9762 - val_loss: 0.1849 - val_acc: 0.9370\n",
      "Epoch 79/100\n",
      "4000/4000 [==============================] - 4s 1ms/step - loss: 0.0714 - acc: 0.9780 - val_loss: 0.1852 - val_acc: 0.9335\n",
      "Epoch 80/100\n",
      "4000/4000 [==============================] - 4s 1ms/step - loss: 0.0730 - acc: 0.9780 - val_loss: 0.1893 - val_acc: 0.9345\n",
      "Epoch 81/100\n",
      "4000/4000 [==============================] - 4s 1ms/step - loss: 0.0727 - acc: 0.9757 - val_loss: 0.1874 - val_acc: 0.9340\n",
      "Epoch 82/100\n",
      "4000/4000 [==============================] - 4s 1ms/step - loss: 0.0698 - acc: 0.9765 - val_loss: 0.1894 - val_acc: 0.9310\n",
      "Epoch 83/100\n",
      "4000/4000 [==============================] - 4s 1ms/step - loss: 0.0712 - acc: 0.9765 - val_loss: 0.1881 - val_acc: 0.9350\n",
      "Epoch 84/100\n",
      "4000/4000 [==============================] - 4s 1ms/step - loss: 0.0713 - acc: 0.9782 - val_loss: 0.1873 - val_acc: 0.9380\n",
      "Epoch 85/100\n",
      "4000/4000 [==============================] - 4s 1ms/step - loss: 0.0687 - acc: 0.9775 - val_loss: 0.1878 - val_acc: 0.9345\n",
      "Epoch 86/100\n",
      "4000/4000 [==============================] - 4s 1ms/step - loss: 0.0678 - acc: 0.9800 - val_loss: 0.1932 - val_acc: 0.9330\n",
      "Epoch 87/100\n",
      "4000/4000 [==============================] - 4s 1ms/step - loss: 0.0675 - acc: 0.9765 - val_loss: 0.1899 - val_acc: 0.9375\n",
      "Epoch 88/100\n",
      "4000/4000 [==============================] - 4s 1ms/step - loss: 0.0656 - acc: 0.9792 - val_loss: 0.1929 - val_acc: 0.9380\n",
      "Epoch 89/100\n",
      "4000/4000 [==============================] - 6s 1ms/step - loss: 0.0665 - acc: 0.9802 - val_loss: 0.1931 - val_acc: 0.9320\n",
      "Epoch 90/100\n",
      "4000/4000 [==============================] - 5s 1ms/step - loss: 0.0663 - acc: 0.9777 - val_loss: 0.1973 - val_acc: 0.9315\n",
      "Epoch 91/100\n",
      "4000/4000 [==============================] - 5s 1ms/step - loss: 0.0651 - acc: 0.9782 - val_loss: 0.1912 - val_acc: 0.9340\n",
      "Epoch 92/100\n",
      "4000/4000 [==============================] - 5s 1ms/step - loss: 0.0651 - acc: 0.9807 - val_loss: 0.1925 - val_acc: 0.9385\n",
      "Epoch 93/100\n",
      "4000/4000 [==============================] - 5s 1ms/step - loss: 0.0635 - acc: 0.9792 - val_loss: 0.1915 - val_acc: 0.9335\n",
      "Epoch 94/100\n",
      "4000/4000 [==============================] - 6s 1ms/step - loss: 0.0601 - acc: 0.9802 - val_loss: 0.1944 - val_acc: 0.9345\n",
      "Epoch 95/100\n",
      "4000/4000 [==============================] - 6s 1ms/step - loss: 0.0623 - acc: 0.9795 - val_loss: 0.1945 - val_acc: 0.9370\n",
      "Epoch 96/100\n",
      "4000/4000 [==============================] - 5s 1ms/step - loss: 0.0607 - acc: 0.9832 - val_loss: 0.1932 - val_acc: 0.9360\n",
      "Epoch 97/100\n",
      "4000/4000 [==============================] - 4s 1ms/step - loss: 0.0588 - acc: 0.9822 - val_loss: 0.1962 - val_acc: 0.9335\n",
      "Epoch 98/100\n",
      "4000/4000 [==============================] - 4s 1ms/step - loss: 0.0629 - acc: 0.9802 - val_loss: 0.1989 - val_acc: 0.9370\n",
      "Epoch 99/100\n",
      "4000/4000 [==============================] - 5s 1ms/step - loss: 0.0584 - acc: 0.9832 - val_loss: 0.1960 - val_acc: 0.9365\n",
      "Epoch 100/100\n",
      "4000/4000 [==============================] - 4s 1ms/step - loss: 0.0575 - acc: 0.9837 - val_loss: 0.1982 - val_acc: 0.9325\n"
     ]
    }
   ],
   "source": [
    "history = model.fit(\n",
    "    train_features,\n",
    "    train_labels,\n",
    "    epochs=100,\n",
    "    batch_size=20,\n",
    "    validation_data=(validation_features,validation_labels))"
   ]
  },
  {
   "cell_type": "code",
   "execution_count": 53,
   "metadata": {},
   "outputs": [],
   "source": [
    "model.save('malaria_detector_VGG16')"
   ]
  },
  {
   "cell_type": "code",
   "execution_count": 56,
   "metadata": {},
   "outputs": [
    {
     "data": {
      "text/plain": [
       "<matplotlib.figure.Figure at 0x1335cf310>"
      ]
     },
     "execution_count": 56,
     "metadata": {},
     "output_type": "execute_result"
    },
    {
     "data": {
      "image/png": "[encoded data removed]",
      "text/plain": [
       "<matplotlib.figure.Figure at 0x13349cfd0>"
      ]
     },
     "metadata": {
      "needs_background": "light"
     },
     "output_type": "display_data"
    },
    {
     "data": {
      "text/plain": [
       "<matplotlib.figure.Figure at 0x1335cf310>"
      ]
     },
     "metadata": {},
     "output_type": "display_data"
    }
   ],
   "source": [
    "import matplotlib.pyplot as plt\n",
    "\n",
    "acc = history.history['acc']\n",
    "val_acc = history.history['val_acc']\n",
    "loss = history.history['loss']\n",
    "val_loss = history.history['val_loss']\n",
    "\n",
    "epochs = range(1, len(acc) + 1)\n",
    "\n",
    "plt.plot(epochs, acc, 'bo', label='Training acc')\n",
    "plt.plot(epochs, val_acc, 'b', label='Validation acc')\n",
    "plt.title('Training and Validation accuracy')\n",
    "plt.legend()\n",
    "plt.figure()"
   ]
  },
  {
   "cell_type": "code",
   "execution_count": 55,
   "metadata": {
    "scrolled": false
   },
   "outputs": [
    {
     "data": {
      "image/png": "[encoded data removed]",
      "text/plain": [
       "<matplotlib.figure.Figure at 0x12ae65c50>"
      ]
     },
     "metadata": {
      "needs_background": "light"
     },
     "output_type": "display_data"
    }
   ],
   "source": [
    "plt.plot(epochs, loss, 'bo', label='Training loss')\n",
    "plt.plot(epochs, val_loss, 'b', label='Validation loss')\n",
    "plt.title('Training and Validation loss')\n",
    "plt.legend()\n",
    "plt.show()"
   ]
  },
  {
   "cell_type": "markdown",
   "metadata": {},
   "source": [
    "Part7. < Conclusion >"
   ]
  },
  {
   "cell_type": "markdown",
   "metadata": {},
   "source": [
    "Among all models, the highest test accuracy (0.9519999927282333) was attained by 'malaria_detector_data_augmented.h5' using 4k of images (out of 27,558) for training.\n",
    "\n",
    "Room for improvements:\n",
    "1. Use more data for training : utilizing GPU, train the model feeding more images\n",
    "2. Since using small amount of data, can apply cross-validation to use more images for training. However, requires a lot of computations.\n",
    "3. Fine tuning: train again a few convolutional neural networks (top ones) from the pre-trained model with our data."
   ]
  }
 ],
 "metadata": {
  "kernelspec": {
   "display_name": "Python 2",
   "language": "python",
   "name": "python2"
  },
  "language_info": {
   "codemirror_mode": {
    "name": "ipython",
    "version": 2
   },
   "file_extension": ".py",
   "mimetype": "text/x-python",
   "name": "python",
   "nbconvert_exporter": "python",
   "pygments_lexer": "ipython2",
   "version": "2.7.16"
  }
 },
 "nbformat": 4,
 "nbformat_minor": 2
}
